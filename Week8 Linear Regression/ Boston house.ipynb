{
 "cells": [
  {
   "cell_type": "code",
   "execution_count": 1,
   "metadata": {},
   "outputs": [],
   "source": [
    "import numpy as np\n",
    "from sklearn.datasets import load_boston\n",
    "from sklearn.linear_model import LinearRegression\n",
    "from sklearn.model_selection import train_test_split\n",
    "from sklearn.metrics import mean_squared_error\n",
    "from sklearn.preprocessing import StandardScaler\n",
    "import matplotlib.pyplot as plt"
   ]
  },
  {
   "cell_type": "code",
   "execution_count": 14,
   "metadata": {},
   "outputs": [
    {
     "data": {
      "image/png": "[encoded data removed]",
      "text/plain": [
       "<Figure size 432x288 with 1 Axes>"
      ]
     },
     "metadata": {
      "needs_background": "light"
     },
     "output_type": "display_data"
    }
   ],
   "source": [
    "boston_data = load_boston()\n",
    "# lay du lieu o cot 5\n",
    "X = boston_data.data[:, 5, np.newaxis]\n",
    "# taget la gia nha\n",
    "y = boston_data.target[:, np.newaxis]\n",
    "\n",
    "plt.plot(X, y, 'bo')\n",
    "plt.xlabel('RM')\n",
    "plt.ylabel('PRICE')\n",
    "plt.show()\n",
    "         \n"
   ]
  },
  {
   "cell_type": "code",
   "execution_count": 16,
   "metadata": {},
   "outputs": [
    {
     "name": "stdout",
     "output_type": "stream",
     "text": [
      "(379, 1)\n",
      "(127, 1)\n",
      "(379, 1)\n",
      "(127, 1)\n"
     ]
    }
   ],
   "source": [
    "# scale data tranh lam tran phep tinh\n",
    "scalerx = StandardScaler()\n",
    "scalery = StandardScaler()\n",
    "X_scaled = scalerx.fit_transform(X)\n",
    "y_scaled = scalery.fit_transform(y)\n",
    "\n",
    "# chia du lieu thanh tap train va tap test\n",
    "X_train, X_test, y_train, y_test = train_test_split(X_scaled, y_scaled)\n",
    "\n",
    "print(X_train.shape)\n",
    "print(X_test.shape)\n",
    "print(y_train.shape)\n",
    "print(y_test.shape)"
   ]
  },
  {
   "cell_type": "code",
   "execution_count": 18,
   "metadata": {},
   "outputs": [
    {
     "data": {
      "text/plain": [
       "LinearRegression()"
      ]
     },
     "execution_count": 18,
     "metadata": {},
     "output_type": "execute_result"
    }
   ],
   "source": [
    "# su dung model LinearRegression \n",
    "model = LinearRegression()\n",
    "# Train data\n",
    "model.fit(X_train, y_train)\n"
   ]
  },
  {
   "cell_type": "code",
   "execution_count": 20,
   "metadata": {},
   "outputs": [
    {
     "name": "stdout",
     "output_type": "stream",
     "text": [
      "0.8410034211021145\n"
     ]
    }
   ],
   "source": [
    "# thuc hien train model tren tap test\n",
    "y_hat = model.predict(X_test)\n",
    "\n",
    "#  Tinh Loss bang MSE\n",
    "mse = mean_squared_error(y_hat, y_test)\n",
    "print(mse)\n",
    "\n"
   ]
  },
  {
   "cell_type": "code",
   "execution_count": 26,
   "metadata": {},
   "outputs": [
    {
     "data": {
      "image/png": "[encoded data removed]",
      "text/plain": [
       "<Figure size 432x288 with 1 Axes>"
      ]
     },
     "metadata": {
      "needs_background": "light"
     },
     "output_type": "display_data"
    }
   ],
   "source": [
    "plt.scatter(scalerx.inverse_transform(X_test), scalery.inverse_transform(y_test))\n",
    "plt.plot(scalerx.inverse_transform(X_test), scalery.inverse_transform(y_hat),'r')\n",
    "plt.xlabel('House feature: RM')\n",
    "plt.ylabel('Price')\n",
    "plt.show()\n",
    "              "
   ]
  },
  {
   "cell_type": "code",
   "execution_count": 28,
   "metadata": {},
   "outputs": [
    {
     "name": "stdout",
     "output_type": "stream",
     "text": [
      "[[0.76425575]] [-0.03988032]\n"
     ]
    }
   ],
   "source": [
    "# in weight w0, w1 ma model cua sklearn da hoc w1,w0\n",
    "print(model.coef_, model.intercept_)"
   ]
  },
  {
   "cell_type": "code",
   "execution_count": 29,
   "metadata": {},
   "outputs": [],
   "source": [
    "Tinh gradient desent\n",
    "class GDLinearRegression:\n",
    "    # khoi tao learning rate va khoi tao step de update  w\n",
    "    def __init__(self, lr,step):\n",
    "        self.lr = lr\n",
    "        self.step = step\n",
    "        \n",
    "    ## Train the model voi dau vao la tap train data X cung nhan Y\n",
    "    ##X la ma tran MxN trong do MxN trong do  M la so luong diem du lieu co N chieu\n",
    "    ## Truong hop du lieu 1 chieu thi X la vector cot Mx1\n",
    "    ## Lay ra so luong diem train_size va so chieu du lieu n_features\n",
    "    \n",
    "    def fit(self, X, y):\n",
    "        self.n_features = X.shape[1] if len(X.shape)> 1 else 1\n",
    "        train_size = len(X) # so luong sample\n",
    "        \n",
    "        # chuan hoa lai dinh dang du lieu \n",
    "        X = X.reshape(-1, self.n_features)#in ra so phan tu trong row dua vao n feature\n",
    "        y = y.reshape([-1,1])\n",
    "        \n",
    "        # ta muon thuc hien du doan  y = X.T*W + bias, ta dua bias vao w(W|bias) va 1 cot toan 1 vao X(X|one)\n",
    "        #luc do viec tinh toan thuan tien hon y = (X|one).T*(W|bias)\n",
    "        one = np.ones([train_size, 1])\n",
    "        X = np.concatenate([X,one], 1)\n",
    "        \n",
    "        #Tao weight chinh la tham so ta se optimize trong qua trinh train\n",
    "        self.weight = np.zeros([self.n_features+1,1])\n",
    "        print('x shape:',X.shape,'-y shape:', y.shape,'-weight shape:', self.weight.shape,'train_size:',train_size)\n",
    "        \n",
    "        # mang luu lai toan bo gia tri loss trong qua trinh train\n",
    "        self.train_loss = []\n",
    "        \n",
    "        # train\n",
    "        for i in range(self.step):\n",
    "            \n",
    "            loss = np.sum((y - np.dot(X, self.weight)) ** 2)\n",
    "            delta = np.dot(X.T, ( np.dot(X, self.weight) - y))\n",
    "            \n",
    "            # update weight\n",
    "            self.weight = self.weight - (self.lr/train_size) * delta\n",
    "            \n",
    "            # tinh trung binh loss\n",
    "            loss = loss/train_size\n",
    "            self.train_loss.append(loss.item())\n",
    "            \n",
    "        \n",
    "          # Thuc hien du doan   \n",
    "    def predict(self, X):\n",
    "        # chuan hoa format du lieu nhu ta da lam trong luc train\n",
    "        X = X.reshape(-1, self.n_features)\n",
    "\n",
    "        # them cot one nhu ta da lam trong luc train\n",
    "        one = np.ones([len(X), 1])\n",
    "        X = np.concatenate([X, one],1)\n",
    "\n",
    "        # Thuc hien du doan, don gian la nhan ma tran\n",
    "        y_hat = np.dot(X, self.weight)\n",
    "\n",
    "        return y_hat\n",
    "\n",
    "    def print_weight(self):\n",
    "            # In weight da hoc duoc\n",
    "        print(self.weight)\n",
    "\n",
    "    def get_train_loss(self):\n",
    "        # tra ve train loss da luu trong qua trinh train\n",
    "        return self.train_loss\n",
    "    \n"
   ]
  },
  {
   "cell_type": "code",
   "execution_count": 30,
   "metadata": {},
   "outputs": [
    {
     "name": "stdout",
     "output_type": "stream",
     "text": [
      "x shape: (379, 2) -y shape: (379, 1) -weight shape: (2, 1) train_size: 379\n"
     ]
    },
    {
     "data": {
      "image/png": "[encoded data removed]",
      "text/plain": [
       "<Figure size 432x288 with 1 Axes>"
      ]
     },
     "metadata": {
      "needs_background": "light"
     },
     "output_type": "display_data"
    }
   ],
   "source": [
    "# implement GDLinearRegression\n",
    "# learning rate la 0.01 step la 1000\n",
    "mymodel = GDLinearRegression(0.01, 1000)\n",
    "# thuc hien train du lieu\n",
    "mymodel.fit(X_train, y_train)\n",
    "\n",
    "# ve bieu do trainnig loss\n",
    "train_loss = mymodel.get_train_loss()\n",
    "plt.plot(range(len(train_loss)), train_loss)\n",
    "plt.xlabel('Step')\n",
    "plt.ylabel('Loss')\n",
    "plt.show()"
   ]
  },
  {
   "cell_type": "code",
   "execution_count": 32,
   "metadata": {},
   "outputs": [
    {
     "name": "stdout",
     "output_type": "stream",
     "text": [
      "Test MSE: 0.8409066493899056\n"
     ]
    }
   ],
   "source": [
    "# thuc hien du doan tren tap test\n",
    "y_hat = mymodel.predict(X_test)\n",
    "mse = mean_squared_error(y_hat,y_test)\n",
    "\n",
    "# Tinh Loss bang mse tren tap test\n",
    "print('Test MSE:', mse)"
   ]
  },
  {
   "cell_type": "code",
   "execution_count": 34,
   "metadata": {},
   "outputs": [
    {
     "data": {
      "image/png": "[encoded data removed]",
      "text/plain": [
       "<Figure size 432x288 with 1 Axes>"
      ]
     },
     "metadata": {
      "needs_background": "light"
     },
     "output_type": "display_data"
    }
   ],
   "source": [
    "plt.scatter(scalerx.inverse_transform(X_test),scalery.inverse_transform(y_test))\n",
    "plt.plot(scalerx.inverse_transform(X_test), scalery.inverse_transform(y_hat),'r')\n",
    "plt.show()"
   ]
  },
  {
   "cell_type": "code",
   "execution_count": 35,
   "metadata": {},
   "outputs": [
    {
     "name": "stdout",
     "output_type": "stream",
     "text": [
      "[[ 0.76409572]\n",
      " [-0.03985215]]\n"
     ]
    }
   ],
   "source": [
    "mymodel.print_weight()"
   ]
  },
  {
   "cell_type": "code",
   "execution_count": null,
   "metadata": {},
   "outputs": [],
   "source": []
  }
 ],
 "metadata": {
  "kernelspec": {
   "display_name": "Python 3",
   "language": "python",
   "name": "python3"
  },
  "language_info": {
   "codemirror_mode": {
    "name": "ipython",
    "version": 3
   },
   "file_extension": ".py",
   "mimetype": "text/x-python",
   "name": "python",
   "nbconvert_exporter": "python",
   "pygments_lexer": "ipython3",
   "version": "3.7.8"
  }
 },
 "nbformat": 4,
 "nbformat_minor": 4
}
