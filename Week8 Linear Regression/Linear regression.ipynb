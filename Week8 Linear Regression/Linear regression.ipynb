{
 "cells": [
  {
   "cell_type": "code",
   "execution_count": 1,
   "metadata": {},
   "outputs": [],
   "source": [
    "import numpy as np\n",
    "from sklearn.datasets import load_boston\n",
    "from sklearn.linear_model import LinearRegression\n",
    "from sklearn.model_selection import train_test_split\n",
    "from sklearn.metrics import mean_squared_error\n",
    "from sklearn.preprocessing import StandardScaler\n",
    "import matplotlib.pyplot as plt"
   ]
  },
  {
   "cell_type": "code",
   "execution_count": 2,
   "metadata": {},
   "outputs": [
    {
     "data": {
      "image/png": "[encoded data removed]",
      "text/plain": [
       "<Figure size 432x288 with 1 Axes>"
      ]
     },
     "metadata": {
      "needs_background": "light"
     },
     "output_type": "display_data"
    }
   ],
   "source": [
    "####$%ˆ#@ Vi Du voi du lieu random\n",
    "np.random.seed(2)\n",
    "X = np.random.rand(300,1)\n",
    "y = 4*X+1+0.3*np.random.randn(300,1)# Them nhieu\n",
    "# the hien qua bieu do\n",
    "plt.plot(X,y, 'bo')\n",
    "plt.xlabel('x')\n",
    "plt.ylabel('y')\n",
    "plt.show()\n"
   ]
  },
  {
   "cell_type": "code",
   "execution_count": 3,
   "metadata": {},
   "outputs": [
    {
     "name": "stdout",
     "output_type": "stream",
     "text": [
      "(225, 1)\n",
      "(75, 1)\n",
      "(225, 1)\n",
      "(75, 1)\n"
     ]
    }
   ],
   "source": [
    "#$@ Chia Du Lieu Dao tao - kiem thu\n",
    "X_train, X_test, y_train, y_test = train_test_split(X,y)\n",
    "\n",
    "print(X_train.shape)\n",
    "print(X_test.shape)\n",
    "print(X_train.shape)\n",
    "print(X_test.shape)"
   ]
  },
  {
   "cell_type": "code",
   "execution_count": 4,
   "metadata": {},
   "outputs": [
    {
     "data": {
      "text/plain": [
       "LinearRegression()"
      ]
     },
     "execution_count": 4,
     "metadata": {},
     "output_type": "execute_result"
    }
   ],
   "source": [
    "# su dung model Linear Regression tu thu vien Sklearn\n",
    "model = LinearRegression()\n",
    "# Thuc hien train du lieu tren tap train\n",
    "model.fit(X_train, y_train)\n"
   ]
  },
  {
   "cell_type": "code",
   "execution_count": 5,
   "metadata": {},
   "outputs": [
    {
     "data": {
      "text/plain": [
       "0.0912889743008689"
      ]
     },
     "execution_count": 5,
     "metadata": {},
     "output_type": "execute_result"
    }
   ],
   "source": [
    "# thuc hien du doan tren tap test\n",
    "y_hat = model.predict(X_test)\n",
    "# hien thi MSE cua du doan so voi label (Tinh Loss)\n",
    "mean_squared_error(y_test, y_hat)"
   ]
  },
  {
   "cell_type": "code",
   "execution_count": 6,
   "metadata": {},
   "outputs": [
    {
     "data": {
      "image/png": "[encoded data removed]",
      "text/plain": [
       "<Figure size 432x288 with 1 Axes>"
      ]
     },
     "metadata": {
      "needs_background": "light"
     },
     "output_type": "display_data"
    }
   ],
   "source": [
    "# Ve do thi du lieu cham xanh va duong du doan\n",
    "plt.scatter(X_test, y_test)\n",
    "plt.plot(X_test, y_hat)\n",
    "plt.xlabel('x')\n",
    "plt.ylabel('y')\n",
    "plt.show()"
   ]
  },
  {
   "cell_type": "code",
   "execution_count": 7,
   "metadata": {},
   "outputs": [
    {
     "name": "stdout",
     "output_type": "stream",
     "text": [
      "[[4.05197002]] [0.95850025]\n"
     ]
    }
   ],
   "source": [
    "#in w hoc dc w1,w0\n",
    "print(model.coef_, model.intercept_)\n"
   ]
  },
  {
   "cell_type": "code",
   "execution_count": 41,
   "metadata": {},
   "outputs": [],
   "source": [
    "class GDLinearRegression:\n",
    "    # khoi tao learning rate va khoi tao step de update  w\n",
    "    def __init__(self, lr,step):\n",
    "        self.lr = lr\n",
    "        self.step = step\n",
    "        \n",
    "    ## Train the model voi dau vao la tap train data X cung nhan Y\n",
    "    ##X la ma tran MxN trong do MxN trong do  M la so luong diem du lieu co N chieu\n",
    "    ## Truong hop du lieu 1 chieu thi X la vector cot Mx1\n",
    "    ## Lay ra so luong diem train_size va so chieu du lieu n_features\n",
    "    \n",
    "    def fit(self, X, y):\n",
    "        self.n_features = X.shape[1] if len(X.shape)> 1 else 1\n",
    "        train_size = len(X) # so luong sample\n",
    "        \n",
    "        # chuan hoa lai dinh dang du lieu \n",
    "        X = X.reshape(-1, self.n_features)#in ra so phan tu trong row dua vao n feature\n",
    "        y = y.reshape([-1,1])\n",
    "        \n",
    "        # ta muon thuc hien du doan  y = X.T*W + bias, ta dua bias vao w(W|bias) va 1 cot toan 1 vao X(X|one)\n",
    "        #luc do viec tinh toan thuan tien hon y = (X|one).T*(W|bias)\n",
    "        one = np.ones([train_size, 1])\n",
    "        X = np.concatenate([X,one], 1)\n",
    "        \n",
    "        #Tao weight chinh la tham so ta se optimize trong qua trinh train\n",
    "        self.weight = np.zeros([self.n_features+1,1])\n",
    "        print('x shape:',X.shape,'-y shape:', y.shape,'-weight shape:', self.weight.shape,'train_size:',train_size)\n",
    "        \n",
    "        # mang luu lai toan bo gia tri loss trong qua trinh train\n",
    "        self.train_loss = []\n",
    "        \n",
    "        # train\n",
    "        for i in range(self.step):\n",
    "            \n",
    "            loss = np.sum((y - np.dot(X, self.weight)) ** 2)\n",
    "            delta = np.dot(X.T, ( np.dot(X, self.weight) - y))\n",
    "            \n",
    "            # update weight\n",
    "            self.weight = self.weight - (self.lr/train_size) * delta\n",
    "            \n",
    "            # tinh trung binh loss\n",
    "            loss = loss/train_size\n",
    "            self.train_loss.append(loss.item())\n",
    "            \n",
    "        \n",
    "          # Thuc hien du doan   \n",
    "    def predict(self, X):\n",
    "        # chuan hoa format du lieu nhu ta da lam trong luc train\n",
    "        X = X.reshape(-1, self.n_features)\n",
    "\n",
    "        # them cot one nhu ta da lam trong luc train\n",
    "        one = np.ones([len(X), 1])\n",
    "        X = np.concatenate([X, one],1)\n",
    "\n",
    "        # Thuc hien du doan, don gian la nhan ma tran\n",
    "        y_hat = np.dot(X, self.weight)\n",
    "\n",
    "        return y_hat\n",
    "\n",
    "    def print_weight(self):\n",
    "            # In weight da hoc duoc\n",
    "        print(self.weight)\n",
    "\n",
    "    def get_train_loss(self):\n",
    "        # tra ve train loss da luu trong qua trinh train\n",
    "        return self.train_loss\n",
    "    "
   ]
  },
  {
   "cell_type": "code",
   "execution_count": 42,
   "metadata": {
    "scrolled": false
   },
   "outputs": [
    {
     "name": "stdout",
     "output_type": "stream",
     "text": [
      "x shape: (75, 2) -y shape: (75, 1) -weight shape: (2, 1) train_size: 75\n"
     ]
    }
   ],
   "source": [
    "model = GDLinearRegression(0.1, 1000)\n",
    "model.fit(X_test, y_test)"
   ]
  },
  {
   "cell_type": "code",
   "execution_count": 43,
   "metadata": {},
   "outputs": [
    {
     "data": {
      "image/png": "[encoded data removed]",
      "text/plain": [
       "<Figure size 432x288 with 1 Axes>"
      ]
     },
     "metadata": {
      "needs_background": "light"
     },
     "output_type": "display_data"
    },
    {
     "name": "stdout",
     "output_type": "stream",
     "text": [
      "last loss:  0.08892961981309458\n"
     ]
    }
   ],
   "source": [
    "train_loss = model.get_train_loss()\n",
    "\n",
    "plt.plot(range(len(train_loss)), train_loss)\n",
    "plt.title(\"training loss\")\n",
    "plt.xlabel(\"Step\")\n",
    "plt.ylabel(\"loss\")\n",
    "plt.show()\n",
    "print(\"last loss: \", train_loss[-1])"
   ]
  },
  {
   "cell_type": "code",
   "execution_count": 44,
   "metadata": {},
   "outputs": [
    {
     "data": {
      "image/png": "[encoded data removed]",
      "text/plain": [
       "<Figure size 432x288 with 1 Axes>"
      ]
     },
     "metadata": {
      "needs_background": "light"
     },
     "output_type": "display_data"
    }
   ],
   "source": [
    "y_hat = model.predict(X_test)\n",
    "\n",
    "plt.scatter(X_test, y_test)\n",
    "plt.plot(X_test, y_hat, 'r')\n",
    "plt.xlabel('x')\n",
    "plt.ylabel('y')\n",
    "# plt.title('y=-3x+5')\n",
    "plt.show()"
   ]
  },
  {
   "cell_type": "code",
   "execution_count": 40,
   "metadata": {},
   "outputs": [
    {
     "name": "stdout",
     "output_type": "stream",
     "text": [
      "[[3.86268772]\n",
      " [1.06636389]]\n"
     ]
    }
   ],
   "source": [
    "# kiem tra weight dc hoc kha gan voi y =4x +1\n",
    "model.print_weight()"
   ]
  },
  {
   "cell_type": "code",
   "execution_count": null,
   "metadata": {},
   "outputs": [],
   "source": []
  }
 ],
 "metadata": {
  "kernelspec": {
   "display_name": "Python 3",
   "language": "python",
   "name": "python3"
  },
  "language_info": {
   "codemirror_mode": {
    "name": "ipython",
    "version": 3
   },
   "file_extension": ".py",
   "mimetype": "text/x-python",
   "name": "python",
   "nbconvert_exporter": "python",
   "pygments_lexer": "ipython3",
   "version": "3.7.8"
  }
 },
 "nbformat": 4,
 "nbformat_minor": 4
}
