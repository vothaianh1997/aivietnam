{
 "cells": [
  {
   "cell_type": "markdown",
   "metadata": {},
   "source": [
    "###### MEAN (HỆ SỐ TRUNG BÌNH)"
   ]
  },
  {
   "cell_type": "code",
   "execution_count": 1,
   "metadata": {},
   "outputs": [
    {
     "name": "stdout",
     "output_type": "stream",
     "text": [
      "Trung binh so tien quen gop la: 475.72727272727275\n"
     ]
    }
   ],
   "source": [
    "def calculate_mean(numbers):\n",
    "    s = sum(numbers)\n",
    "    N = len(numbers)\n",
    "    mean = s/N\n",
    "    return mean\n",
    "\n",
    "donations = [100, 60, 70, 900, 100, 200, 500, 503, 600, 1000, 1200]\n",
    "mean_value = calculate_mean(donations)\n",
    "print('Trung binh so tien quen gop la:', mean_value)"
   ]
  },
  {
   "cell_type": "code",
   "execution_count": 2,
   "metadata": {},
   "outputs": [],
   "source": [
    "# Correlation(convolution)\n",
    "import numpy as np\n",
    "import cv2\n",
    "#load image in grayscale mode\n",
    "image = cv2.imread('/Users/vothaianh/Downloads/standard-deviation/img.jpg',0)\n",
    "\n",
    "#create kernel\n",
    "kernel = np.ones((4,4), np.float32)/16.0\n",
    "\n",
    "# comute mean for each pixel\n",
    "dst = cv2.filter2D(image, cv2.CV_8U, kernel)\n",
    "\n",
    "# show images \n",
    "cv2.imshow('image',image)\n",
    "cv2.imshow('dst',dst)\n",
    "\n",
    "#waiting for any keys pressed and close windows\n",
    "cv2.waitKey(0)\n",
    "cv2.destroyAllWindows()\n"
   ]
  },
  {
   "cell_type": "code",
   "execution_count": 3,
   "metadata": {},
   "outputs": [
    {
     "name": "stdout",
     "output_type": "stream",
     "text": [
      "[[1. 1. 1. 1. 1.]\n",
      " [1. 1. 1. 1. 1.]\n",
      " [1. 1. 1. 1. 1.]\n",
      " [1. 1. 1. 1. 1.]\n",
      " [1. 1. 1. 1. 1.]]\n",
      "[[2. 2. 2.]\n",
      " [2. 2. 2.]\n",
      " [2. 2. 2.]]\n",
      "[[1. 1. 1. 1. 1.]\n",
      " [1. 2. 2. 2. 1.]\n",
      " [1. 2. 2. 2. 1.]\n",
      " [1. 2. 2. 2. 1.]\n",
      " [1. 1. 1. 1. 1.]]\n"
     ]
    }
   ],
   "source": [
    "import numpy as np\n",
    "arr = np.ones((5,5))\n",
    "print(arr)\n",
    "\n",
    "roi = arr[1:4, 1:4]\n",
    "roi = roi + 1\n",
    "print(roi)\n",
    "\n",
    "arr[1:4, 1:4] = roi\n",
    "print(arr)"
   ]
  },
  {
   "cell_type": "code",
   "execution_count": 4,
   "metadata": {},
   "outputs": [],
   "source": [
    "import cv2\n",
    "import numpy as np\n",
    "\n",
    "\n",
    "# load image in grayscale mode\n",
    "image = cv2.imread('/Users/vothaianh/Downloads/standard-deviation/img.jpg',0)\n",
    "\n",
    "# create kernel\n",
    "kernel = np.ones((5,5), np.float32) / 25.0\n",
    "\n",
    "#select ROI (top_y,top_x,height, width)\n",
    "roi = image[40:140, 150:280]\n",
    "\n",
    "#compute mean for each pixel\n",
    "roi = cv2.filter2D(roi, cv2.CV_8U, kernel)\n",
    "\n",
    "image[40:140,150:280] = roi\n",
    "\n",
    "# show images\n",
    "cv2.imshow('roi', roi)\n",
    "cv2.imshow('image', image)\n",
    "# waiting for any keys pressed and close windows\n",
    "cv2.waitKey(0)\n",
    "cv2.destroyAllWindows()\n"
   ]
  },
  {
   "cell_type": "code",
   "execution_count": 5,
   "metadata": {},
   "outputs": [],
   "source": [
    "import numpy as np\n",
    "import cv2\n",
    "\n",
    "# face detection setup\n",
    "face_cascade = cv2.CascadeClassifier('/Applications/anaconda3/pkgs/libopencv-4.4.0-py37_3/share/opencv4/haarcascades/haarcascade_frontalface_default.xml')\n",
    "\n",
    "# load image in grayscale mode\n",
    "image = cv2.imread('/Users/vothaianh/Documents/mrbean.jpeg',1)\n",
    "\n",
    "# Convert to grayscale mode\n",
    "gray = cv2.cvtColor(image, cv2.COLOR_BGR2GRAY)\n",
    "\n",
    "# face detection\n",
    "faces = face_cascade.detectMultiScale(gray,1.1,4) \n",
    "\n",
    "#create kernel\n",
    "kernel = np.ones((7,7), np.float32)/49.0\n",
    "\n",
    "# Draw the retangle around each face\n",
    "for (x, y, w, h) in faces:\n",
    "    cv2.rectangle(image, (x,y), (x+w, y+h), (0, 255, 0), 1)\n",
    "    roi = image[y:y+h,x:x+w]\n",
    "    \n",
    "    # compute mean for each pixel\n",
    "    roi = cv2.filter2D(roi, cv2.CV_8U, kernel)\n",
    "    roi = cv2.filter2D(roi, cv2.CV_8U, kernel)\n",
    "    roi = cv2.filter2D(roi, cv2.CV_8U, kernel)\n",
    "    \n",
    "    # update\n",
    "    image[y:y+h,x:x+w] = roi\n",
    "\n",
    "# show images\n",
    "cv2.imshow('image',image)\n",
    "\n",
    "# Waiting for any keys pressed and close windows\n",
    "cv2.waitKey(0)\n",
    "cv2.destroyAllWindows()"
   ]
  },
  {
   "cell_type": "code",
   "execution_count": 6,
   "metadata": {},
   "outputs": [
    {
     "data": {
      "text/plain": [
       "5"
      ]
     },
     "execution_count": 6,
     "metadata": {},
     "output_type": "execute_result"
    }
   ],
   "source": [
    "def calculate_median(numbers):\n",
    "    N = len(numbers)\n",
    "    numbers.sort()\n",
    "    if N%2 == 0:\n",
    "        m1 = N/2\n",
    "        m2 = (N/2) + 1\n",
    "        m1 = int(m1)-1\n",
    "        m2 = int(m2)-1\n",
    "        median = (numbers[m1] + numbers[m2])/2\n",
    "    else:\n",
    "        m = (N+1)/2\n",
    "        m = int(m) - 1\n",
    "        median = numbers[m]\n",
    "    return median\n",
    "nhapso = [2,3,5,6,7,3,2,3,4,5,6,53434,12]\n",
    "calculate_median(nhapso)"
   ]
  },
  {
   "cell_type": "code",
   "execution_count": 7,
   "metadata": {},
   "outputs": [],
   "source": [
    "import cv2\n",
    "import numpy as np\n",
    "# lam mo anh trong khung\n",
    "img1 = cv2.imread('/Users/vothaianh/Documents/mrbean.jpeg')\n",
    "img2 = cv2.medianBlur(img1, 3)\n",
    "\n",
    "# show images\n",
    "cv2.imshow('img1', img1)\n",
    "cv2.imshow('img2', img2)\n",
    "\n",
    "# waiting for any keys pressed and close windows\n",
    "cv2.waitKey(0)\n",
    "cv2.destroyAllWindows()"
   ]
  },
  {
   "cell_type": "code",
   "execution_count": null,
   "metadata": {},
   "outputs": [],
   "source": []
  },
  {
   "cell_type": "code",
   "execution_count": null,
   "metadata": {},
   "outputs": [],
   "source": []
  },
  {
   "cell_type": "code",
   "execution_count": null,
   "metadata": {},
   "outputs": [],
   "source": []
  },
  {
   "cell_type": "markdown",
   "metadata": {},
   "source": [
    "###### Correlation Coefficient (Hệ Số Tương Quan)"
   ]
  },
  {
   "cell_type": "code",
   "execution_count": 6,
   "metadata": {},
   "outputs": [
    {
     "data": {
      "text/plain": [
       "0.9923582126729306"
      ]
     },
     "execution_count": 6,
     "metadata": {},
     "output_type": "execute_result"
    }
   ],
   "source": [
    "def find_corr_x_y(x,y):\n",
    "    n = len(x)\n",
    "    prod = []\n",
    "    for xi,yi in zip(x,y):\n",
    "        prod.append(xi*yi)\n",
    "        \n",
    "    sum_prod_x_y = sum(prod)\n",
    "    \n",
    "    sum_x = sum(x)\n",
    "    sum_y = sum(y)\n",
    "    \n",
    "    squared_sum_x = sum_x**2\n",
    "    squared_sum_y = sum_y**2\n",
    "    \n",
    "    x_square = []\n",
    "    for xi in x:\n",
    "        x_square.append(xi**2)\n",
    "    x_square_sum = sum(x_square)\n",
    "    \n",
    "    y_square=[]\n",
    "    for yi in y:\n",
    "        y_square.append(yi**2)\n",
    "    y_square_sum = sum(y_square)\n",
    "    \n",
    "    # Use formula to calculate correlation\n",
    "    numerator = n*sum_prod_x_y - sum_x*sum_y\n",
    "    denominator_term1 = n*x_square_sum - squared_sum_x\n",
    "    denominator_term2 = n*y_square_sum - squared_sum_y\n",
    "    denominator = (denominator_term1*denominator_term2)**0.5\n",
    "    correlation = numerator/denominator\n",
    "    \n",
    "    return correlation\n",
    "x = [6,7,8,9,76,6,5,4,8,9]\n",
    "y = [8,9,5,6,87,8,9,6,7,4]\n",
    "find_corr_x_y(x,y)"
   ]
  },
  {
   "cell_type": "markdown",
   "metadata": {},
   "source": [
    "###### Range "
   ]
  },
  {
   "cell_type": "code",
   "execution_count": 2,
   "metadata": {},
   "outputs": [
    {
     "name": "stdout",
     "output_type": "stream",
     "text": [
      "Lowest: 7\tHighest: 56\tRange: 49\n"
     ]
    }
   ],
   "source": [
    "def find_range(numbers):\n",
    "    lowest = min(numbers)\n",
    "    highest = max(numbers)\n",
    "    r = highest-lowest\n",
    "    print('Lowest: {0}\\tHighest: {1}\\tRange: {2}'.format(lowest, highest,r))\n",
    "# data\n",
    "points = [7,8,9,10,14,56,43]\n",
    "find_range(points)\n"
   ]
  },
  {
   "cell_type": "code",
   "execution_count": 9,
   "metadata": {},
   "outputs": [
    {
     "name": "stdout",
     "output_type": "stream",
     "text": [
      "tinh mean: 18.0\n",
      "tinh variance: 396.8\n"
     ]
    }
   ],
   "source": [
    "# Tinh variance \n",
    "def calculate_mean(numbers):\n",
    "    s = sum(numbers)\n",
    "    N = len(numbers)\n",
    "    mean = s/N\n",
    "    return mean\n",
    "def calculate_variance(numbers):\n",
    "    mean = calculate_mean(numbers)\n",
    "    \n",
    "    diff = []\n",
    "    for num in numbers:\n",
    "        diff.append(num-mean)\n",
    "    squared_diff = []\n",
    "    for d in diff:\n",
    "        squared_diff.append(d**2)\n",
    "    sum_squared_diff = sum(squared_diff)\n",
    "    variance = sum_squared_diff/len(numbers)\n",
    "    \n",
    "    return variance\n",
    "nb = [9,2,3,4,5,6,12,45,62,32]\n",
    "print('tinh mean:',calculate_mean(nb))\n",
    "print('tinh variance:',calculate_variance(nb))\n"
   ]
  },
  {
   "cell_type": "code",
   "execution_count": 11,
   "metadata": {},
   "outputs": [
    {
     "name": "stdout",
     "output_type": "stream",
     "text": [
      "97.66036907806124\n"
     ]
    },
    {
     "data": {
      "text/plain": [
       "True"
      ]
     },
     "execution_count": 11,
     "metadata": {},
     "output_type": "execute_result"
    }
   ],
   "source": [
    "import numpy as np\n",
    "import cv2\n",
    "import math\n",
    "from scipy.ndimage.filters import generic_filter\n",
    "\n",
    "img = cv2.imread('img.jpg')\n",
    "gray = cv2.cvtColor(img, cv2.COLOR_BGR2GRAY)\n",
    "cv2.imwrite('edge_s1.jpg', gray)\n",
    "\n",
    "x = gray.astype('float')\n",
    "x_filt = generic_filter(x, np.std, size=7)\n",
    "cv2.imwrite('edge_s2.jpg', x_filt)\n",
    "\n",
    "x_filt[x_filt < 20] = 0\n",
    "maxv = np.max(x_filt)\n",
    "print(maxv)\n",
    "\n",
    "x_filt = x_filt*2.5\n",
    "cv2.imwrite('edge_s4.jpg', x_filt)"
   ]
  },
  {
   "cell_type": "code",
   "execution_count": null,
   "metadata": {},
   "outputs": [],
   "source": []
  },
  {
   "cell_type": "code",
   "execution_count": null,
   "metadata": {},
   "outputs": [],
   "source": []
  }
 ],
 "metadata": {
  "kernelspec": {
   "display_name": "Python 3",
   "language": "python",
   "name": "python3"
  },
  "language_info": {
   "codemirror_mode": {
    "name": "ipython",
    "version": 3
   },
   "file_extension": ".py",
   "mimetype": "text/x-python",
   "name": "python",
   "nbconvert_exporter": "python",
   "pygments_lexer": "ipython3",
   "version": "3.7.8"
  }
 },
 "nbformat": 4,
 "nbformat_minor": 4
}
