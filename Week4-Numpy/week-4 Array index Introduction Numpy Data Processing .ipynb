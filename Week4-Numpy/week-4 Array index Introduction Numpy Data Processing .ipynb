{
 "cells": [
  {
   "cell_type": "code",
   "execution_count": null,
   "metadata": {},
   "outputs": [],
   "source": []
  },
  {
   "cell_type": "code",
   "execution_count": 1,
   "metadata": {},
   "outputs": [],
   "source": [
    "import numpy as np"
   ]
  },
  {
   "cell_type": "code",
   "execution_count": 5,
   "metadata": {},
   "outputs": [],
   "source": [
    "a_arr = np.array([[1,2,3],\n",
    "                  [5,6,7]])\n",
    "b_arr = a_arr[:,1:3]"
   ]
  },
  {
   "cell_type": "code",
   "execution_count": 6,
   "metadata": {},
   "outputs": [
    {
     "name": "stdout",
     "output_type": "stream",
     "text": [
      "[[1 2 3]\n",
      " [5 6 7]]\n",
      "[[2 3]\n",
      " [6 7]]\n"
     ]
    }
   ],
   "source": [
    "print(a_arr)\n",
    "print(b_arr)"
   ]
  },
  {
   "cell_type": "code",
   "execution_count": 8,
   "metadata": {},
   "outputs": [
    {
     "name": "stdout",
     "output_type": "stream",
     "text": [
      "a_arr \n",
      " [[1 2 3]\n",
      " [5 6 7]]\n",
      "b_arr [[2 3]\n",
      " [6 7]]\n",
      "before changing \n",
      " 2\n",
      "after changing \n",
      " 99\n"
     ]
    }
   ],
   "source": [
    "a_arr = np.array([[1,2,3],\n",
    "                  [5,6,7]])\n",
    "print('a_arr \\n', a_arr)\n",
    "b_arr = a_arr[:, 1:3]\n",
    "print('b_arr',b_arr)\n",
    "\n",
    "print('before changing \\n', a_arr[0,1])\n",
    "b_arr[0,0]=99\n",
    "print('after changing \\n',a_arr[0, 1])\n"
   ]
  },
  {
   "cell_type": "code",
   "execution_count": 10,
   "metadata": {},
   "outputs": [
    {
     "name": "stdout",
     "output_type": "stream",
     "text": [
      "[5 6 7] (3,)\n",
      "[[5 6 7]] (1, 3)\n"
     ]
    }
   ],
   "source": [
    "arr = np.array([[1,2,3],\n",
    "                [5,6,7],\n",
    "                [9,10,11]])\n",
    "# Hai cach truy cap du lieu o cot index=1 cua mang\n",
    "\n",
    "row_m1 = arr[1,:]\n",
    "row_m2 = arr[1:2, :]\n",
    "print(row_m1, row_m1.shape)\n",
    "print(row_m2,row_m2.shape)"
   ]
  },
  {
   "cell_type": "code",
   "execution_count": 13,
   "metadata": {},
   "outputs": [
    {
     "name": "stdout",
     "output_type": "stream",
     "text": [
      "[ 2  6 10] (3,)\n",
      "[[ 2]\n",
      " [ 6]\n",
      " [10]] (3, 1)\n"
     ]
    }
   ],
   "source": [
    "arr = np.array([[1,2,3],\n",
    "                [5,6,7],\n",
    "                [9,10,11]])\n",
    "# Hai cach truy cap du lieu o cot index=1 cua mang\n",
    "\n",
    "row_m1 = arr[:, 1]\n",
    "row_m2 = arr[:, 1:2]\n",
    "print(row_m1, row_m1.shape)\n",
    "print(row_m2,row_m2.shape)"
   ]
  },
  {
   "cell_type": "code",
   "execution_count": 12,
   "metadata": {},
   "outputs": [
    {
     "name": "stdout",
     "output_type": "stream",
     "text": [
      "out1 [1 6 9]\n",
      "out2:\n",
      " [2 2]\n"
     ]
    }
   ],
   "source": [
    "# lay gia tri ()\n",
    "out1 = arr[[0,1,2], [0,1,0]]\n",
    "print('out1', out1)\n",
    " \n",
    "out2 = arr[[0,0],[1,1]]\n",
    "print('out2:\\n',out2)"
   ]
  },
  {
   "cell_type": "code",
   "execution_count": 14,
   "metadata": {},
   "outputs": [
    {
     "name": "stdout",
     "output_type": "stream",
     "text": [
      "[[1 2]\n",
      " [3 4]\n",
      " [5 6]]\n",
      "[[False False]\n",
      " [ True  True]\n",
      " [ True  True]]\n"
     ]
    }
   ],
   "source": [
    "arr = np.array([[1,2],\n",
    "                [3,4],\n",
    "                [5,6]])\n",
    "print(arr)\n",
    "\n",
    "# tm cac phan tu lon hon 2\n",
    "bool_idx = (arr > 2)\n",
    "print(bool_idx)"
   ]
  },
  {
   "cell_type": "code",
   "execution_count": 15,
   "metadata": {},
   "outputs": [
    {
     "name": "stdout",
     "output_type": "stream",
     "text": [
      "data x \n",
      " [1 2 3 4]\n",
      "data y \n",
      " [5 6 7 8]\n",
      "method 1 \n",
      " [ 6  8 10 12]\n",
      "method 2 \n",
      " [ 6  8 10 12]\n"
     ]
    }
   ],
   "source": [
    "x = np.array([1,2,3,4])\n",
    "y = np.array([5,6,7,8])\n",
    "\n",
    "print('data x \\n', x)\n",
    "print('data y \\n', y)\n",
    "\n",
    "# Tong cua 2 mang\n",
    "print('method 1 \\n', x+y)\n",
    "print('method 2 \\n', np.add(x,y))"
   ]
  },
  {
   "cell_type": "code",
   "execution_count": 18,
   "metadata": {},
   "outputs": [
    {
     "name": "stdout",
     "output_type": "stream",
     "text": [
      "method 1 \n",
      " [0.2        0.33333333 0.42857143 0.5       ]\n",
      "method 2 \n",
      " [0 0 0 0]\n",
      "method 3 \n",
      " [0.2        0.33333333 0.42857143 0.5       ]\n"
     ]
    }
   ],
   "source": [
    "# phep chia cac tung phan tuong ung x cho y\n",
    "print('method 1 \\n', x/y)\n",
    "print('method 2 \\n', x//y)\n",
    "print('method 3 \\n', np.divide(x, y))"
   ]
  },
  {
   "cell_type": "code",
   "execution_count": 20,
   "metadata": {},
   "outputs": [
    {
     "name": "stdout",
     "output_type": "stream",
     "text": [
      "data \n",
      " [1 2 3 4]\n",
      "sqrt \n",
      " [1.         1.41421356 1.73205081 2.        ]\n"
     ]
    }
   ],
   "source": [
    "# can bac 2 tung phan tu trong data\n",
    "data = np.array([1,2,3,4])\n",
    "print('data \\n',data)\n",
    "print('sqrt \\n',np.sqrt(data))"
   ]
  },
  {
   "cell_type": "code",
   "execution_count": 21,
   "metadata": {},
   "outputs": [
    {
     "name": "stdout",
     "output_type": "stream",
     "text": [
      "method 1 \n",
      " 8\n",
      "method 2 \n",
      " 8\n"
     ]
    }
   ],
   "source": [
    "v = np.array([1, 2])\n",
    "w = np.array([2, 3])\n",
    "\n",
    "#Tinh inner product giua v va w\n",
    "print('method 1 \\n', v.dot(w))\n",
    "print('method 2 \\n', np.dot(v, w))"
   ]
  },
  {
   "cell_type": "code",
   "execution_count": 22,
   "metadata": {},
   "outputs": [
    {
     "name": "stdout",
     "output_type": "stream",
     "text": [
      "matrix X \n",
      " [[1 2]\n",
      " [3 4]]\n",
      "vector v \n",
      " [1 2]\n",
      "method 1: X.dot(v)\n",
      " [ 5 11]\n",
      "method 1: v.dot(X)\n",
      " [ 7 10]\n"
     ]
    }
   ],
   "source": [
    "X = np.array([[1,2],\n",
    "              [3,4]])\n",
    "v = np.array([1,2])\n",
    "\n",
    "print('matrix X \\n',X)\n",
    "print('vector v \\n',v)\n",
    "\n",
    "# phep nhan giua ma tran va vector\n",
    "print('method 1: X.dot(v)\\n', X.dot(v))\n",
    "print('method 1: v.dot(X)\\n', v.dot(X))"
   ]
  },
  {
   "cell_type": "code",
   "execution_count": 24,
   "metadata": {},
   "outputs": [
    {
     "name": "stdout",
     "output_type": "stream",
     "text": [
      "method 1 \n",
      " [[ 6  5]\n",
      " [14 13]]\n",
      "method 1 \n",
      " [[11 16]\n",
      " [ 5  8]]\n"
     ]
    }
   ],
   "source": [
    "Y = np.array([[2,3],\n",
    "              [2,1]])\n",
    "print('method 1 \\n', X.dot(Y))\n",
    "print('method 1 \\n',Y.dot(X))"
   ]
  },
  {
   "cell_type": "code",
   "execution_count": 25,
   "metadata": {},
   "outputs": [
    {
     "name": "stdout",
     "output_type": "stream",
     "text": [
      "10\n",
      "[4 6]\n",
      "[3 7]\n"
     ]
    }
   ],
   "source": [
    "X = np.array([[1,2],\n",
    "              [3,4]])\n",
    "print(np.sum(X))\n",
    "# Tong theo cot\n",
    "print(np.sum(X, axis=0))\n",
    "print(np.sum(X, axis=1))"
   ]
  },
  {
   "cell_type": "code",
   "execution_count": 26,
   "metadata": {},
   "outputs": [
    {
     "name": "stdout",
     "output_type": "stream",
     "text": [
      "3\n",
      "1\n"
     ]
    }
   ],
   "source": [
    "data = np.array([1,2,3])\n",
    "print(data.max())\n",
    "print(data.min())"
   ]
  },
  {
   "cell_type": "code",
   "execution_count": 30,
   "metadata": {},
   "outputs": [
    {
     "name": "stdout",
     "output_type": "stream",
     "text": [
      "[1 2 3]\n",
      "[2 4 6]\n",
      "[-1  0  1]\n"
     ]
    }
   ],
   "source": [
    "# nhan va tru vs 1 so\n",
    "factor =2\n",
    "result_multiplication = data*factor\n",
    "result_minus = data - factor\n",
    "\n",
    "print(data) \n",
    "print(result_multiplication)\n",
    "print(result_minus)"
   ]
  },
  {
   "cell_type": "code",
   "execution_count": 32,
   "metadata": {},
   "outputs": [
    {
     "name": "stdout",
     "output_type": "stream",
     "text": [
      "[[ 2  2  4]\n",
      " [ 5  5  7]\n",
      " [ 8  8 10]]\n"
     ]
    }
   ],
   "source": [
    "X = np.array([[1,2,3],\n",
    "              [4,5,6],\n",
    "              [7,8,9]])\n",
    "v = np.array([1, 0, 1])\n",
    "\n",
    "Y = X +v\n",
    "print(Y)"
   ]
  },
  {
   "cell_type": "markdown",
   "metadata": {},
   "source": [
    "###### Introduction Numpy"
   ]
  },
  {
   "cell_type": "code",
   "execution_count": 1,
   "metadata": {},
   "outputs": [],
   "source": [
    "import tensorflow as tf\n",
    "import numpy as np"
   ]
  },
  {
   "cell_type": "code",
   "execution_count": 5,
   "metadata": {},
   "outputs": [
    {
     "name": "stdout",
     "output_type": "stream",
     "text": [
      "[0 1 2 3 4 5 6 7 8 9]\n",
      "(10,)\n",
      "-------------\n"
     ]
    }
   ],
   "source": [
    "# create a numpy array\n",
    "arr_np = np.arange(10)\n",
    "print(arr_np)\n",
    "print(arr_np.shape)\n",
    "print('-------------')"
   ]
  },
  {
   "cell_type": "code",
   "execution_count": 6,
   "metadata": {
    "scrolled": true
   },
   "outputs": [
    {
     "name": "stdout",
     "output_type": "stream",
     "text": [
      "tf.Tensor([0 1 2 3 4 5 6 7 8 9], shape=(10,), dtype=int64)\n",
      "(10,)\n",
      "--------------\n"
     ]
    }
   ],
   "source": [
    "# convert from numpy array to tensor\n",
    "arr_tf = tf.convert_to_tensor(arr_np)\n",
    "print(arr_tf)\n",
    "print(arr_tf.shape)\n",
    "print('--------------')"
   ]
  },
  {
   "cell_type": "code",
   "execution_count": 7,
   "metadata": {},
   "outputs": [
    {
     "name": "stdout",
     "output_type": "stream",
     "text": [
      "[0 1 2 3 4 5 6 7 8 9]\n",
      "(10,)\n"
     ]
    }
   ],
   "source": [
    "# convert from tensor to numpy array\n",
    "arr_np_back = arr_tf.numpy()\n",
    "print(arr_np_back)\n",
    "print(arr_np_back.shape)"
   ]
  },
  {
   "cell_type": "code",
   "execution_count": null,
   "metadata": {
    "collapsed": true
   },
   "outputs": [],
   "source": []
  },
  {
   "cell_type": "code",
   "execution_count": 15,
   "metadata": {},
   "outputs": [
    {
     "name": "stdout",
     "output_type": "stream",
     "text": [
      "[1 2 3]\n",
      "[1 2 3]\n",
      "[[1 2]\n",
      " [3 4]\n",
      " [5 6]]\n",
      "[[[1 6]\n",
      "  [2 2]\n",
      "  [3 4]]\n",
      "\n",
      " [[4 7]\n",
      "  [5 3]\n",
      "  [6 9]]\n",
      "\n",
      " [[7 7]\n",
      "  [8 2]\n",
      "  [9 3]]]\n"
     ]
    }
   ],
   "source": [
    "#Common attributes\n",
    "import numpy as np\n",
    "\n",
    "# tao list\n",
    "l = list(range(1,4))\n",
    "\n",
    "list1D = [1,2,3]\n",
    "\n",
    "list2D = [[1,2],[3,4],[5,6]]\n",
    "\n",
    "list3D = [[[1,6],[2,2],[3,4]],\n",
    "          [[4,7],[5,3],[6,9]],\n",
    "          [[7,7],[8,2],[9,3]]]\n",
    "# tao ndarray\n",
    "data = np.array(l)\n",
    "data1 = np.array(list1D)\n",
    "data2 = np.array(list2D)\n",
    "data3 = np.array(list3D)\n",
    "\n",
    "print(data)\n",
    "print(data1)\n",
    "print(data2)\n",
    "print(data3)"
   ]
  },
  {
   "cell_type": "code",
   "execution_count": 17,
   "metadata": {},
   "outputs": [
    {
     "name": "stdout",
     "output_type": "stream",
     "text": [
      "[1 2 3]\n",
      "[8 2 3]\n"
     ]
    }
   ],
   "source": [
    "#Thay doi gia tri phan tu\n",
    "import numpy as np\n",
    "\n",
    "#Create list\n",
    "l = list(range(1,4))\n",
    "\n",
    "#tao ndarray\n",
    "data = np.array(l)\n",
    "print(data)\n",
    "data[0] = 8\n",
    "print(data)"
   ]
  },
  {
   "cell_type": "code",
   "execution_count": 19,
   "metadata": {},
   "outputs": [
    {
     "name": "stdout",
     "output_type": "stream",
     "text": [
      "[[0. 0. 0.]\n",
      " [0. 0. 0.]]\n"
     ]
    }
   ],
   "source": [
    "# tao mot numpy array\n",
    "# voi phan tu la 0\n",
    "import numpy as np\n",
    "# shape: 2 dong , 3 cot\n",
    "arr = np.zeros((2,3))\n",
    "print(arr)"
   ]
  },
  {
   "cell_type": "code",
   "execution_count": 21,
   "metadata": {},
   "outputs": [
    {
     "name": "stdout",
     "output_type": "stream",
     "text": [
      "[[1. 1. 1.]\n",
      " [1. 1. 1.]]\n"
     ]
    }
   ],
   "source": [
    "# tao mot numpy array voi\n",
    "# numpy.ones(shape)\n",
    "#shape: 2 dong 3 cot\n",
    "arr = np.ones((2,3))\n",
    "print(arr)"
   ]
  },
  {
   "cell_type": "code",
   "execution_count": 22,
   "metadata": {},
   "outputs": [
    {
     "name": "stdout",
     "output_type": "stream",
     "text": [
      "[[9 9 9]\n",
      " [9 9 9]]\n"
     ]
    }
   ],
   "source": [
    "arr = np.full((2,3),9)\n",
    "print(arr)"
   ]
  },
  {
   "cell_type": "code",
   "execution_count": 23,
   "metadata": {},
   "outputs": [
    {
     "name": "stdout",
     "output_type": "stream",
     "text": [
      "[0 1 2 3 4]\n",
      "[0 2 4]\n"
     ]
    }
   ],
   "source": [
    "#tao array\n",
    "arr1 = np.arange(5)\n",
    "print(arr1)\n",
    "\n",
    "arr2 = np.arange(0,5,2)\n",
    "print(arr2)"
   ]
  },
  {
   "cell_type": "code",
   "execution_count": 25,
   "metadata": {},
   "outputs": [
    {
     "name": "stdout",
     "output_type": "stream",
     "text": [
      "[[1. 0. 0.]\n",
      " [0. 1. 0.]\n",
      " [0. 0. 1.]]\n"
     ]
    }
   ],
   "source": [
    "# tao arrray voi duong cheo la so 1\n",
    "\n",
    "arr = np.eye(3)\n",
    "print(arr)"
   ]
  },
  {
   "cell_type": "code",
   "execution_count": 27,
   "metadata": {},
   "outputs": [
    {
     "name": "stdout",
     "output_type": "stream",
     "text": [
      "[[0.28661374 0.47335996 0.26492827]\n",
      " [0.14078698 0.61797128 0.27597937]]\n"
     ]
    }
   ],
   "source": [
    "#phan tu co gia tri ngau nhien\n",
    "arr = np.random.random((2,3))\n",
    "print(arr)"
   ]
  },
  {
   "cell_type": "code",
   "execution_count": 28,
   "metadata": {},
   "outputs": [
    {
     "name": "stdout",
     "output_type": "stream",
     "text": [
      "5\n",
      "False\n",
      "10\n"
     ]
    }
   ],
   "source": [
    "arr = np.array(5)\n",
    "print(arr)\n",
    "\n",
    "condition = arr < 3\n",
    "out =np.where(condition, arr, arr*2)\n",
    "\n",
    "print(condition)\n",
    "print(out)"
   ]
  },
  {
   "cell_type": "code",
   "execution_count": 29,
   "metadata": {},
   "outputs": [
    {
     "name": "stdout",
     "output_type": "stream",
     "text": [
      "[[1 2]\n",
      " [3 4]]\n",
      "[1 2 3 4]\n"
     ]
    }
   ],
   "source": [
    "arr = np.array([[1,2],[3,4]])\n",
    "out = arr.flatten()\n",
    "\n",
    "print(arr)\n",
    "print(out)"
   ]
  },
  {
   "cell_type": "code",
   "execution_count": null,
   "metadata": {},
   "outputs": [],
   "source": [
    "# tao list\n",
    "l =[[1,2,3],\n",
    "    [4,5,6]]\n",
    "# Tao ndarray\n",
    "data = np.array(l)\n",
    "print('data\\n', data)\n",
    "print('data shape\\n', data.shape)\n",
    "\n",
    "#reshape\n",
    "data_rs = np.reshape(data,(3,2))\n",
    "print('data_rs\\n', data_rs)\n",
    "print('data_rs shape\\n'. data_rs)"
   ]
  },
  {
   "cell_type": "code",
   "execution_count": null,
   "metadata": {},
   "outputs": [],
   "source": []
  },
  {
   "cell_type": "code",
   "execution_count": null,
   "metadata": {},
   "outputs": [],
   "source": []
  },
  {
   "cell_type": "markdown",
   "metadata": {},
   "source": [
    "###### Data Processing"
   ]
  },
  {
   "cell_type": "code",
   "execution_count": 2,
   "metadata": {},
   "outputs": [],
   "source": [
    "import numpy as np\n",
    "import numpy.core.defchararray as np_f\n"
   ]
  },
  {
   "cell_type": "code",
   "execution_count": 13,
   "metadata": {},
   "outputs": [],
   "source": [
    "X = np.genfromtxt('/Users/vothaianh/Downloads/[FreeTutorials.Eu] Udemy - NLP - Natural Language Processing with Python--Hoc RR/1. Introduction/UPDATED_NLP_COURSE/06-Deep-Learning/irisdata.csv',delimiter=',', dtype='str',usecols=[0,1,2,3],skip_header=1)"
   ]
  },
  {
   "cell_type": "code",
   "execution_count": 14,
   "metadata": {},
   "outputs": [
    {
     "name": "stdout",
     "output_type": "stream",
     "text": [
      "(150, 4)\n"
     ]
    }
   ],
   "source": [
    "print(X.shape)"
   ]
  },
  {
   "cell_type": "code",
   "execution_count": 15,
   "metadata": {},
   "outputs": [],
   "source": [
    "# lay species va luu vao bien y\n",
    "y = np.genfromtxt('/Users/vothaianh/Downloads/[FreeTutorials.Eu] Udemy - NLP - Natural Language Processing with Python--Hoc RR/1. Introduction/UPDATED_NLP_COURSE/06-Deep-Learning/irisdata.csv',delimiter=',', dtype='str',usecols=[0,1,2,3],skip_header=1)"
   ]
  },
  {
   "cell_type": "code",
   "execution_count": 21,
   "metadata": {},
   "outputs": [
    {
     "name": "stdout",
     "output_type": "stream",
     "text": [
      "[['45616' '256056' '55956' '56']\n",
      " ['3565' '256' '55956' '56']\n",
      " ['3563' '2556656' '55856' '56']\n",
      " ['35616' '25616' '56056' '56']\n",
      " ['456' '25616' '55956' '56']\n",
      " ['455956' '2565' '563' '256']\n",
      " ['35616' '255956' '55956' '156']\n",
      " ['456' '255956' '56056' '56']\n",
      " ['355956' '1565' '55956' '56']\n",
      " ['3565' '25616' '56056' '0']\n",
      " ['455956' '2563' '56056' '56']\n",
      " ['3564' '255956' '5616' '56']\n",
      " ['3564' '256' '55956' '0']\n",
      " ['355856' '256' '5616' '0']\n",
      " ['4564' '356' '556656' '56']\n",
      " ['4563' '355956' '56056' '256']\n",
      " ['455956' '2565' '55856' '256']\n",
      " ['45616' '256056' '55956' '156']\n",
      " ['4563' '2564' '563' '156']\n",
      " ['45616' '2564' '56056' '156']\n",
      " ['455956' '255956' '563' '56']\n",
      " ['45616' '2563' '56056' '256']\n",
      " ['35616' '25616' '56' '56']\n",
      " ['45616' '255856' '563' '356']\n",
      " ['3564' '255956' '565' '56']\n",
      " ['456' '256' '5616' '56']\n",
      " ['456' '255956' '5616' '256']\n",
      " ['4556656' '256056' '56056' '56']\n",
      " ['4556656' '255956' '55956' '56']\n",
      " ['3563' '2556656' '5616' '56']\n",
      " ['3564' '25616' '5616' '56']\n",
      " ['455956' '255956' '56056' '256']\n",
      " ['4556656' '35616' '56056' '0']\n",
      " ['456056' '3556656' '55956' '56']\n",
      " ['3565' '25616' '56056' '0']\n",
      " ['456' '2556656' '556656' '56']\n",
      " ['456056' '256056' '55856' '56']\n",
      " ['3565' '25616' '56056' '0']\n",
      " ['355956' '256' '55856' '56']\n",
      " ['45616' '255956' '56056' '56']\n",
      " ['456' '256056' '55856' '156']\n",
      " ['356056' '155856' '55856' '156']\n",
      " ['355956' '2556656' '55856' '56']\n",
      " ['456' '256056' '5616' '456']\n",
      " ['45616' '2564' '565' '256']\n",
      " ['3564' '256' '55956' '156']\n",
      " ['45616' '2564' '5616' '56']\n",
      " ['35616' '2556656' '55956' '56']\n",
      " ['455856' '2563' '56056' '56']\n",
      " ['456' '255856' '55956' '56']\n",
      " ['66' '2556656' '3563' '55956']\n",
      " ['55956' '2556656' '356056' '56056']\n",
      " ['565' '25616' '3565' '56056']\n",
      " ['456056' '155856' '356' '55856']\n",
      " ['56056' '1564' '35616' '56056']\n",
      " ['4563' '1564' '356056' '55856']\n",
      " ['55856' '255856' '3563' '5616']\n",
      " ['3565' '155956' '255856' '56']\n",
      " ['5616' '1565' '35616' '55856']\n",
      " ['4556656' '1563' '2565' '55956']\n",
      " ['456' '156' '256056' '56']\n",
      " ['4565' '256' '3556656' '56056']\n",
      " ['56' '1556656' '356' '56']\n",
      " ['5616' '1565' '3563' '55956']\n",
      " ['45616' '1565' '25616' '55856']\n",
      " ['563' '25616' '355956' '55956']\n",
      " ['45616' '256' '356056' '56056']\n",
      " ['4564' '1563' '35616' '56']\n",
      " ['556656' '1556656' '356056' '56056']\n",
      " ['45616' '156056' '2565' '5616']\n",
      " ['4565' '2556656' '3564' '564']\n",
      " ['5616' '1564' '356' '55856']\n",
      " ['55856' '156056' '3565' '56056']\n",
      " ['5616' '1564' '3563' '556656']\n",
      " ['55956' '1565' '355856' '55856']\n",
      " ['5616' '256' '355956' '55956']\n",
      " ['564' '1564' '3564' '55956']\n",
      " ['563' '256' '456' '563']\n",
      " ['56' '1565' '356056' '56056']\n",
      " ['4563' '15616' '256056' '56']\n",
      " ['456056' '155956' '2564' '5616']\n",
      " ['456056' '155956' '2563' '56']\n",
      " ['4564' '1563' '2565' '556656']\n",
      " ['56' '1563' '45616' '5616']\n",
      " ['455956' '256' '356056' '56056']\n",
      " ['56' '255956' '356056' '5616']\n",
      " ['563' '25616' '3563' '56056']\n",
      " ['55856' '155856' '355956' '55856']\n",
      " ['45616' '256' '35616' '55856']\n",
      " ['456056' '156056' '356' '55856']\n",
      " ['456056' '15616' '355956' '556656']\n",
      " ['5616' '256' '35616' '55956']\n",
      " ['4564' '15616' '356' '556656']\n",
      " ['456' '155856' '255856' '56']\n",
      " ['45616' '1563' '3556656' '55856']\n",
      " ['4563' '256' '3556656' '556656']\n",
      " ['4563' '1565' '3556656' '55856']\n",
      " ['556656' '1565' '355856' '55856']\n",
      " ['45616' '156056' '256' '5616']\n",
      " ['4563' '1564' '35616' '55856']\n",
      " ['55856' '255856' '56' '156056']\n",
      " ['4564' '1563' '45616' '565']\n",
      " ['66.56' '256' '4565' '15616']\n",
      " ['55856' '1565' '45616' '564']\n",
      " ['56056' '256' '4564' '1556656']\n",
      " ['66.56' '256' '5616' '15616']\n",
      " ['3565' '156056' '356056' '563']\n",
      " ['66.256' '1565' '55856' '564']\n",
      " ['563' '156056' '4564' '564']\n",
      " ['66.156' '25616' '5616' '156056']\n",
      " ['56056' '2556656' '45616' '156']\n",
      " ['55956' '1563' '455856' '565']\n",
      " ['564' '256' '456056' '15616']\n",
      " ['4563' '156056' '456' '156']\n",
      " ['4564' '1564' '45616' '155956']\n",
      " ['55956' '2556656' '455856' '155856']\n",
      " ['56056' '256' '456056' '564']\n",
      " ['66.66' '2564' '563' '1556656']\n",
      " ['66.66' '15616' '565' '155856']\n",
      " ['56' '1556656' '456' '56056']\n",
      " ['565' '2556656' '4563' '155856']\n",
      " ['45616' '1564' '3565' '156']\n",
      " ['66.66' '1564' '563' '156']\n",
      " ['55856' '1563' '3565' '564']\n",
      " ['563' '255856' '4563' '15616']\n",
      " ['66.156' '2556656' '56' '564']\n",
      " ['556656' '1564' '3564' '564']\n",
      " ['5616' '256' '3565' '564']\n",
      " ['55956' '1564' '45616' '15616']\n",
      " ['66.156' '256' '4564' '5616']\n",
      " ['66.356' '1564' '5616' '565']\n",
      " ['66.9' '2564' '55956' '156']\n",
      " ['55956' '1564' '45616' '1556656']\n",
      " ['55856' '1564' '45616' '56056']\n",
      " ['5616' '15616' '45616' '55956']\n",
      " ['66.66' '256' '5616' '155856']\n",
      " ['55856' '255956' '45616' '155956']\n",
      " ['55956' '25616' '456056' '564']\n",
      " ['56' '256' '3564' '564']\n",
      " ['565' '25616' '455956' '15616']\n",
      " ['563' '25616' '45616' '155956']\n",
      " ['565' '25616' '45616' '155856']\n",
      " ['4564' '1563' '45616' '565']\n",
      " ['564' '2556656' '4565' '155856']\n",
      " ['563' '255856' '4563' '156056']\n",
      " ['563' '256' '4556656' '155856']\n",
      " ['55856' '156056' '456' '565']\n",
      " ['56056' '256' '4556656' '156']\n",
      " ['556656' '255956' '455956' '155856']\n",
      " ['4565' '256' '45616' '564']]\n"
     ]
    }
   ],
   "source": [
    "# thay chuoi bang so\n",
    "categories = np.unique(y)\n",
    "for i in range(categories.size):\n",
    "    y = np_f.replace(y, categories[i], str(i))\n",
    "\n",
    "# dua ve kieu float\n",
    "Y = y.astype('float')\n",
    "print(y)"
   ]
  },
  {
   "cell_type": "code",
   "execution_count": null,
   "metadata": {},
   "outputs": [],
   "source": []
  },
  {
   "cell_type": "code",
   "execution_count": null,
   "metadata": {},
   "outputs": [],
   "source": []
  },
  {
   "cell_type": "code",
   "execution_count": null,
   "metadata": {},
   "outputs": [],
   "source": []
  },
  {
   "cell_type": "code",
   "execution_count": null,
   "metadata": {},
   "outputs": [],
   "source": []
  },
  {
   "cell_type": "code",
   "execution_count": null,
   "metadata": {},
   "outputs": [],
   "source": []
  },
  {
   "cell_type": "code",
   "execution_count": null,
   "metadata": {},
   "outputs": [],
   "source": []
  }
 ],
 "metadata": {
  "kernelspec": {
   "display_name": "Python 3",
   "language": "python",
   "name": "python3"
  },
  "language_info": {
   "codemirror_mode": {
    "name": "ipython",
    "version": 3
   },
   "file_extension": ".py",
   "mimetype": "text/x-python",
   "name": "python",
   "nbconvert_exporter": "python",
   "pygments_lexer": "ipython3",
   "version": "3.7.8"
  }
 },
 "nbformat": 4,
 "nbformat_minor": 4
}
