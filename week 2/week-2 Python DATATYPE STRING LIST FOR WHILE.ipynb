{
 "cells": [
  {
   "cell_type": "code",
   "execution_count": 6,
   "metadata": {},
   "outputs": [
    {
     "name": "stdout",
     "output_type": "stream",
     "text": [
      "5 --- 4341522928\n",
      "6 --- 4341522960\n"
     ]
    }
   ],
   "source": [
    "a_number = 5\n",
    "print(a_number, '---', id(a_number))\n",
    "\n",
    "a_number =6\n",
    "print (a_number, '---', id(a_number))"
   ]
  },
  {
   "cell_type": "code",
   "execution_count": 11,
   "metadata": {},
   "outputs": [
    {
     "name": "stdout",
     "output_type": "stream",
     "text": [
      "lien --- 4383432112\n",
      "lien --- 4383432112\n",
      "mien --- 4385309872\n"
     ]
    }
   ],
   "source": [
    "name_1 = 'lien'\n",
    "print(name_1,'---', id(name_1))\n",
    "\n",
    "name_2 = name_1\n",
    "print(name_2,'---', id(name_2))\n",
    "\n",
    "name_2 = 'mien'\n",
    "print(name_2, '---',id(name_2))"
   ]
  },
  {
   "cell_type": "code",
   "execution_count": 10,
   "metadata": {},
   "outputs": [
    {
     "name": "stdout",
     "output_type": "stream",
     "text": [
      "anh --- 4385311728\n",
      "anh --- 4385311728\n",
      "oanh --- 4385311856\n"
     ]
    }
   ],
   "source": [
    "name_1 = 'anh'\n",
    "print(name_1,'---', id(name_1))\n",
    "\n",
    "name_2 = name_1\n",
    "print(name_2,'---', id(name_2))\n",
    "\n",
    "name_2 = 'oanh'\n",
    "print(name_2,'---', id(name_2))"
   ]
  },
  {
   "cell_type": "code",
   "execution_count": 15,
   "metadata": {},
   "outputs": [
    {
     "name": "stdout",
     "output_type": "stream",
     "text": [
      "4341523152\n",
      "4341523152\n"
     ]
    }
   ],
   "source": [
    "number_1 = 12\n",
    "number_2 = 12\n",
    "print(id(number_1))\n",
    "print(id(number_2))"
   ]
  },
  {
   "cell_type": "code",
   "execution_count": 13,
   "metadata": {},
   "outputs": [
    {
     "name": "stdout",
     "output_type": "stream",
     "text": [
      "A --- 4346496432\n",
      "A --- 4346496432\n"
     ]
    }
   ],
   "source": [
    "name_1 = 'A'\n",
    "print(name_1,'---',id(name_1))\n",
    "\n",
    "name_2= 'A'\n",
    "print(name_2,'---', id(name_2))"
   ]
  },
  {
   "cell_type": "code",
   "execution_count": 16,
   "metadata": {},
   "outputs": [
    {
     "name": "stdout",
     "output_type": "stream",
     "text": [
      "[1, 2, 3] 4384654432\n",
      "[1, 5, 3] 4384654432\n"
     ]
    }
   ],
   "source": [
    "a_list = [1,2,3]\n",
    "print(a_list, id(a_list))\n",
    "\n",
    "a_list[1] = 5\n",
    "print(a_list, id(a_list))"
   ]
  },
  {
   "cell_type": "code",
   "execution_count": 18,
   "metadata": {
    "scrolled": true
   },
   "outputs": [
    {
     "name": "stdout",
     "output_type": "stream",
     "text": [
      "[1, [1, 2], 3] 4385383440\n",
      "4341522800\n",
      "4385383200\n",
      "4341522864\n",
      "\n",
      "\n",
      "[8, [5, 2], 3] 4385383440\n",
      "4341523024\n",
      "4385383200\n",
      "4341522864\n"
     ]
    }
   ],
   "source": [
    "a_list = [1,[1,2],3]\n",
    "print(a_list,id(a_list))\n",
    "print(id(a_list[0]))\n",
    "print(id(a_list[1]))\n",
    "print(id(a_list[2]))\n",
    "\n",
    "print('\\n')\n",
    "a_list[1][0] = 5\n",
    "a_list[0] = 8\n",
    "\n",
    "print(a_list, id(a_list))\n",
    "print(id(a_list[0]))\n",
    "print(id(a_list[1]))\n",
    "print(id(a_list[2]))"
   ]
  },
  {
   "cell_type": "markdown",
   "metadata": {},
   "source": [
    "#### Vòng Lặp FOR"
   ]
  },
  {
   "cell_type": "code",
   "execution_count": 2,
   "metadata": {},
   "outputs": [
    {
     "name": "stdout",
     "output_type": "stream",
     "text": [
      "tao\n",
      "chuoi\n",
      "dua luoi\n",
      "le\n"
     ]
    }
   ],
   "source": [
    "# lam lai mot danh sach \n",
    "traicays = ['tao','chuoi','dua luoi','le']\n",
    "for traicay in traicays:\n",
    "    print(traicay)"
   ]
  },
  {
   "cell_type": "code",
   "execution_count": 4,
   "metadata": {},
   "outputs": [
    {
     "name": "stdout",
     "output_type": "stream",
     "text": [
      "danh_gia 0.1\n",
      "lac_quan Adam\n",
      "do_luong Do_chinh_xac\n"
     ]
    }
   ],
   "source": [
    "# lam lai mot tu dien\n",
    "thamsos = {'danh_gia': 0.1,\n",
    "           'lac_quan':'Adam',\n",
    "           'do_luong': 'Do_chinh_xac'}\n",
    "for khoa in thamsos:\n",
    "    print(khoa, thamsos.get(khoa))"
   ]
  },
  {
   "cell_type": "code",
   "execution_count": 5,
   "metadata": {},
   "outputs": [
    {
     "name": "stdout",
     "output_type": "stream",
     "text": [
      "H\n",
      "e\n",
      "l\n",
      "l\n",
      "o\n"
     ]
    }
   ],
   "source": [
    "# lam lai mot chuoi ky tu\n",
    "xinchao = 'Hello'\n",
    "\n",
    "for kytu in xinchao:\n",
    "    print(kytu)\n"
   ]
  },
  {
   "cell_type": "code",
   "execution_count": 6,
   "metadata": {},
   "outputs": [
    {
     "name": "stdout",
     "output_type": "stream",
     "text": [
      "0\n",
      "1\n",
      "2\n",
      "3\n",
      "4\n"
     ]
    }
   ],
   "source": [
    "# dung range()\n",
    "for i in range(5):\n",
    "    print(i)"
   ]
  },
  {
   "cell_type": "code",
   "execution_count": 9,
   "metadata": {},
   "outputs": [
    {
     "name": "stdout",
     "output_type": "stream",
     "text": [
      "Gia tri i la 0\n",
      "Gia tri i la 1\n",
      "Gia tri i la 2\n",
      "Gia tri i la 3\n",
      "Gia tri i la 4\n"
     ]
    }
   ],
   "source": [
    "# duyet phan tu trong  range(10)\n",
    "for a in range(10):\n",
    "    # hoi phan tu i co bang 5 khong?\n",
    "    if a == 5:\n",
    "        # Neu bang thi thoat vong lap for nay\n",
    "        break\n",
    "    #lam gi do voi 1\n",
    "    print('Gia tri i la', a)"
   ]
  },
  {
   "cell_type": "code",
   "execution_count": 10,
   "metadata": {},
   "outputs": [
    {
     "name": "stdout",
     "output_type": "stream",
     "text": [
      "Gia tri i la : 0\n",
      "Gia tri i la : 1\n",
      "Gia tri i la : 2\n",
      "Gia tri i la : 3\n",
      "Gia tri i la : 4\n",
      "Gia tri i la : 6\n",
      "Gia tri i la : 7\n",
      "Gia tri i la : 8\n",
      "Gia tri i la : 9\n"
     ]
    }
   ],
   "source": [
    "# duyet phan tu trong range(10)\n",
    "for i in range(10):\n",
    "    # hoi phantu i co bang 5 khong\n",
    "    if i == 5:\n",
    "        # neu bang thi goi continue\n",
    "        # phan code sau continue se khong\n",
    "        # duoc thuc thi trong lan lap nay\n",
    "        continue\n",
    "    \n",
    "    #lam gi do voi i\n",
    "    print('Gia tri i la :',i)\n",
    "    "
   ]
  },
  {
   "cell_type": "code",
   "execution_count": 15,
   "metadata": {},
   "outputs": [
    {
     "name": "stdout",
     "output_type": "stream",
     "text": [
      "tong so lan lap: 1000\n",
      "so lan mat sau xuat hien: 486\n",
      "so lan mat truoc xuat hien: 514\n"
     ]
    }
   ],
   "source": [
    "# SIMULATION OF COIN TOSSING\n",
    "import random\n",
    "\n",
    "# tong so lan bung dong xu\n",
    "total_flips = 0\n",
    "\n",
    "# so lan mat sau xuat hien\n",
    "num_tails = 0\n",
    "\n",
    "# so lan mat truoc xuat hien\n",
    "num_heads = 0\n",
    "\n",
    "for _ in range(1000):\n",
    "    # sinh so ngau nhien nam trong khoang (0,1)\n",
    "    n = random.random()\n",
    "    if n < 0.5:\n",
    "        num_tails = num_tails + 1\n",
    "    else:\n",
    "        num_heads = num_heads + 1\n",
    "        \n",
    "    # code o vi tri nay khong thuoc khoi else\n",
    "    total_flips = total_flips + 1\n",
    "    \n",
    "print('tong so lan lap: %d' % total_flips)\n",
    "print('so lan mat sau xuat hien: %d' % num_tails)\n",
    "print('so lan mat truoc xuat hien: %d' % num_heads)"
   ]
  },
  {
   "cell_type": "code",
   "execution_count": 19,
   "metadata": {},
   "outputs": [
    {
     "name": "stdout",
     "output_type": "stream",
     "text": [
      "3.14312\n"
     ]
    }
   ],
   "source": [
    "import random\n",
    "import math\n",
    "\n",
    "# tong so diem p duoc sinh ra\n",
    "N = 100000\n",
    "\n",
    "# so diem thuoc tinh tron\n",
    "N_T = 0\n",
    "# Sinh ra N diem ngau nhien\n",
    "for i in range(N):\n",
    "    # sinh ra x,y thuoc [-1,1].\n",
    "    x = random.random()*2 - 1\n",
    "    y = random.random()*2 - 1\n",
    "    \n",
    "    x2 = x**2\n",
    "    y2 = y**2\n",
    "    \n",
    "    # kiem tra p co nam trong duong tron\n",
    "    if math.sqrt(x2 + y2) <= 1.0:\n",
    "        N_T = N_T + 1\n",
    "# tinh PI\n",
    "pi = (N_T/N)*4\n",
    "print(pi)\n"
   ]
  },
  {
   "cell_type": "code",
   "execution_count": null,
   "metadata": {},
   "outputs": [],
   "source": []
  },
  {
   "cell_type": "code",
   "execution_count": 23,
   "metadata": {},
   "outputs": [
    {
     "name": "stdout",
     "output_type": "stream",
     "text": [
      "3628800\n"
     ]
    }
   ],
   "source": [
    "# ham tinh giai thua\n",
    "def factorial(n):\n",
    "    result = 1\n",
    "    \n",
    "    for i in range(2, n+1):\n",
    "        result = result*i\n",
    "    return result\n",
    "# ham uoc luong so e\n",
    "def estimate_e(n):\n",
    "    result = 1\n",
    "    \n",
    "    for i in range(1, n+1):\n",
    "        result = result*i\n",
    "    \n",
    "    return result\n",
    "# uoc luong so e voi n = 10\n",
    "print(estimate_e)\n",
    "    \n",
    "    \n",
    "    "
   ]
  },
  {
   "cell_type": "code",
   "execution_count": 26,
   "metadata": {},
   "outputs": [
    {
     "name": "stdout",
     "output_type": "stream",
     "text": [
      "3.0\n",
      "1.414213562373095\n"
     ]
    }
   ],
   "source": [
    "def compute_square_root(N, num_loops):\n",
    "    '''\n",
    "    Muc dich cua chuc nang nay dung de tim nghiem nguyen cho N\n",
    "    \n",
    "    N -- so can de tinh nghiem nguyen\n",
    "    num_loops -- so cua vong lap dung cho toi uu\n",
    "    '''\n",
    "    \n",
    "    x_n = N/2.0\n",
    "    \n",
    "    for i in range(num_loops):\n",
    "        x_npl = (x_n + N/x_n) / 2.0\n",
    "        x_n = x_npl\n",
    "    return x_npl\n",
    "print(compute_square_root(N=9, num_loops=10))\n",
    "print(compute_square_root(N=2, num_loops=10))"
   ]
  },
  {
   "cell_type": "markdown",
   "metadata": {},
   "source": [
    "######  LIST (DANH SÁCH)"
   ]
  },
  {
   "cell_type": "code",
   "execution_count": null,
   "metadata": {},
   "outputs": [],
   "source": []
  },
  {
   "cell_type": "code",
   "execution_count": 1,
   "metadata": {},
   "outputs": [],
   "source": [
    "# Danh sach rong\n",
    "emty_list = []\n",
    "\n",
    "# danh sach so tu nhien nho hon 10\n",
    "my_list = [0, 1, 2, 3, 4, 5, 6, 7, 8, 9]\n",
    "\n",
    "# danh sach ket hop nhieu kieu du lieu\n",
    "mixedList = [True, 5,'some String', 123,45]\n",
    "n_list = [\"Happy\", [2,0,1,5]]\n",
    "# danh sach cac loai hoa qua\n",
    "shoppingList = ['apple','banana','cherries','strawberry','orange']"
   ]
  },
  {
   "cell_type": "code",
   "execution_count": 2,
   "metadata": {},
   "outputs": [
    {
     "name": "stdout",
     "output_type": "stream",
     "text": [
      "[6, 5, 7, 1, 9, 2, 4]\n"
     ]
    }
   ],
   "source": [
    "data = [6,5,7,1,9,2]\n",
    "data.append(4)\n",
    "print(data)"
   ]
  },
  {
   "cell_type": "code",
   "execution_count": 3,
   "metadata": {},
   "outputs": [
    {
     "name": "stdout",
     "output_type": "stream",
     "text": [
      "[6, 5, 7, 1, 9, 2, 5, 4]\n"
     ]
    }
   ],
   "source": [
    "data.insert(6,5)\n",
    "print(data)"
   ]
  },
  {
   "cell_type": "code",
   "execution_count": 4,
   "metadata": {},
   "outputs": [],
   "source": [
    "data[1] = 6"
   ]
  },
  {
   "cell_type": "code",
   "execution_count": 5,
   "metadata": {},
   "outputs": [
    {
     "name": "stdout",
     "output_type": "stream",
     "text": [
      "[6, 6, 7, 1, 9, 2, 5, 4]\n"
     ]
    }
   ],
   "source": [
    "print(data)"
   ]
  },
  {
   "cell_type": "code",
   "execution_count": 6,
   "metadata": {},
   "outputs": [],
   "source": [
    "data1 =[6,5,7]\n",
    "data2 =[1,9,2]\n",
    "# noi 2 list\n",
    "data0 = data1 + data2"
   ]
  },
  {
   "cell_type": "code",
   "execution_count": 7,
   "metadata": {},
   "outputs": [
    {
     "name": "stdout",
     "output_type": "stream",
     "text": [
      "[6, 5, 7, 1, 9, 2]\n"
     ]
    }
   ],
   "source": [
    "print(data0)"
   ]
  },
  {
   "cell_type": "code",
   "execution_count": 8,
   "metadata": {},
   "outputs": [],
   "source": [
    "#nhan list vs 1 so\n",
    "data_m = data0*3"
   ]
  },
  {
   "cell_type": "code",
   "execution_count": 9,
   "metadata": {},
   "outputs": [
    {
     "name": "stdout",
     "output_type": "stream",
     "text": [
      "[6, 6, 7, 1, 9, 2, 5, 4]\n"
     ]
    }
   ],
   "source": [
    "print(data)"
   ]
  },
  {
   "cell_type": "code",
   "execution_count": 15,
   "metadata": {},
   "outputs": [
    {
     "name": "stdout",
     "output_type": "stream",
     "text": [
      "[1, 2, 4, 5, 6, 6, 7, 9]\n"
     ]
    }
   ],
   "source": [
    "data.sort()\n",
    "print(data)"
   ]
  },
  {
   "cell_type": "code",
   "execution_count": 16,
   "metadata": {},
   "outputs": [
    {
     "name": "stdout",
     "output_type": "stream",
     "text": [
      "[9, 7, 6, 6, 5, 4, 2, 1]\n"
     ]
    }
   ],
   "source": [
    "data.sort(reverse=True)\n",
    "print(data)"
   ]
  },
  {
   "cell_type": "code",
   "execution_count": 18,
   "metadata": {},
   "outputs": [
    {
     "name": "stdout",
     "output_type": "stream",
     "text": [
      "[9, 7, 6, 4, 2, 1]\n"
     ]
    }
   ],
   "source": [
    "data.remove(5)\n",
    "print(data)"
   ]
  },
  {
   "cell_type": "code",
   "execution_count": 19,
   "metadata": {},
   "outputs": [],
   "source": [
    "del data[1:3]"
   ]
  },
  {
   "cell_type": "code",
   "execution_count": 20,
   "metadata": {},
   "outputs": [
    {
     "name": "stdout",
     "output_type": "stream",
     "text": [
      "[9, 4, 2, 1]\n"
     ]
    }
   ],
   "source": [
    "print(data)"
   ]
  },
  {
   "cell_type": "code",
   "execution_count": 21,
   "metadata": {},
   "outputs": [],
   "source": [
    "data.clear()"
   ]
  },
  {
   "cell_type": "code",
   "execution_count": 22,
   "metadata": {},
   "outputs": [
    {
     "name": "stdout",
     "output_type": "stream",
     "text": [
      "[]\n"
     ]
    }
   ],
   "source": [
    "print(data)"
   ]
  },
  {
   "cell_type": "code",
   "execution_count": 23,
   "metadata": {},
   "outputs": [],
   "source": [
    "data = [9, 7, 6, 6, 5, 4, 2, 1]\n"
   ]
  },
  {
   "cell_type": "code",
   "execution_count": 27,
   "metadata": {},
   "outputs": [
    {
     "data": {
      "text/plain": [
       "2"
      ]
     },
     "execution_count": 27,
     "metadata": {},
     "output_type": "execute_result"
    }
   ],
   "source": [
    "data.index(6)\n"
   ]
  },
  {
   "cell_type": "code",
   "execution_count": 31,
   "metadata": {},
   "outputs": [],
   "source": [
    "data.reverse()"
   ]
  },
  {
   "cell_type": "code",
   "execution_count": 36,
   "metadata": {},
   "outputs": [
    {
     "name": "stdout",
     "output_type": "stream",
     "text": [
      "[1, 2, 4, 5, 6, 6, 7, 9]\n"
     ]
    }
   ],
   "source": [
    "print(data)"
   ]
  },
  {
   "cell_type": "code",
   "execution_count": 33,
   "metadata": {},
   "outputs": [
    {
     "data": {
      "text/plain": [
       "2"
      ]
     },
     "execution_count": 33,
     "metadata": {},
     "output_type": "execute_result"
    }
   ],
   "source": [
    "data.count(6)"
   ]
  },
  {
   "cell_type": "code",
   "execution_count": 34,
   "metadata": {},
   "outputs": [],
   "source": [
    "data_copy = data.copy()"
   ]
  },
  {
   "cell_type": "code",
   "execution_count": 35,
   "metadata": {},
   "outputs": [
    {
     "name": "stdout",
     "output_type": "stream",
     "text": [
      "[1, 2, 4, 5, 6, 6, 7, 9]\n"
     ]
    }
   ],
   "source": [
    "print(data_copy)"
   ]
  },
  {
   "cell_type": "code",
   "execution_count": 37,
   "metadata": {},
   "outputs": [
    {
     "name": "stdout",
     "output_type": "stream",
     "text": [
      "['H', 'e', 'l', 'l', 'o']\n"
     ]
    }
   ],
   "source": [
    "# LIST COMPREHENSION\n",
    "#list_name = [expression for element in iterable]\n",
    "# Create a list\n",
    "list_1 = []\n",
    "for c in 'Hello':\n",
    "    list_1.append(c)\n",
    "print(list_1)"
   ]
  },
  {
   "cell_type": "code",
   "execution_count": 39,
   "metadata": {},
   "outputs": [
    {
     "name": "stdout",
     "output_type": "stream",
     "text": [
      "[0, 2, 4, 6, 8]\n"
     ]
    }
   ],
   "source": [
    "#create a list \n",
    "list_1 = []\n",
    "for i in range(10):\n",
    "    if i%2 == 0:\n",
    "        list_1.append(i)\n",
    "print(list_1)"
   ]
  },
  {
   "cell_type": "code",
   "execution_count": 40,
   "metadata": {},
   "outputs": [
    {
     "name": "stdout",
     "output_type": "stream",
     "text": [
      "['H', 'e', 'l', 'l', 'o']\n"
     ]
    }
   ],
   "source": [
    "# list comprehension\n",
    "list_2 = [c for c in 'Hello']\n",
    "print(list_2)"
   ]
  },
  {
   "cell_type": "code",
   "execution_count": 41,
   "metadata": {},
   "outputs": [
    {
     "name": "stdout",
     "output_type": "stream",
     "text": [
      "[0, 1, 2, 3, 4, 5, 6, 7, 8, 9]\n"
     ]
    }
   ],
   "source": [
    "# list comprehension\n",
    "list_2 = [i for i in range(10)]\n",
    "print(list_2)"
   ]
  },
  {
   "cell_type": "markdown",
   "metadata": {},
   "source": [
    "######  STRING "
   ]
  },
  {
   "cell_type": "code",
   "execution_count": 4,
   "metadata": {},
   "outputs": [
    {
     "name": "stdout",
     "output_type": "stream",
     "text": [
      "66\n"
     ]
    }
   ],
   "source": [
    "ascii_value = ord('B')\n",
    "print(ascii_value)"
   ]
  },
  {
   "cell_type": "code",
   "execution_count": 5,
   "metadata": {},
   "outputs": [
    {
     "name": "stdout",
     "output_type": "stream",
     "text": [
      "N\n"
     ]
    }
   ],
   "source": [
    "a_character = chr(78)\n",
    "print(a_character)"
   ]
  },
  {
   "cell_type": "code",
   "execution_count": 11,
   "metadata": {},
   "outputs": [
    {
     "name": "stdout",
     "output_type": "stream",
     "text": [
      "I LOVE AI VIET NAM I LOVE AI VIET NAM I LOVE AI VIET NAM  I LOVE AI VIET NAM \n"
     ]
    }
   ],
   "source": [
    "text1 = 'I LOVE AI VIET NAM'\n",
    "text2 = \"I LOVE AI VIET NAM\"\n",
    "text3 = '''I LOVE AI VIET NAM'''\n",
    "text4 = \"\"\" I LOVE AI VIET NAM \"\"\"\n",
    "print(text1,text2,text3,text4)"
   ]
  },
  {
   "cell_type": "code",
   "execution_count": 13,
   "metadata": {},
   "outputs": [
    {
     "name": "stdout",
     "output_type": "stream",
     "text": [
      "Chuoi co ki tu dac biet \", 'ben trong\n"
     ]
    }
   ],
   "source": [
    " text5 = \"Chuoi co ki tu dac biet \\\", \\'ben trong\"\n",
    "print(text5)"
   ]
  },
  {
   "cell_type": "code",
   "execution_count": 14,
   "metadata": {},
   "outputs": [
    {
     "name": "stdout",
     "output_type": "stream",
     "text": [
      "Hello AI VIETNAM. Have a nice day! \n",
      "Hello AI VIETNAM. Have a nice day! \n",
      "***Hi AI VIETNAM***\n"
     ]
    }
   ],
   "source": [
    "# THEM VAO BEN TRONG CHUOI\n",
    "value1 = \"AI VIETNAM\"\n",
    "print(\"Hello %s. Have a nice day! \"%value1)\n",
    "print(\"Hello %s. Have a nice day! \"%(value1))\n",
    "\n",
    "value2 = \"Hi\"\n",
    "print(\"***%s %s***\"%(value2,value1))"
   ]
  },
  {
   "cell_type": "code",
   "execution_count": 15,
   "metadata": {},
   "outputs": [
    {
     "name": "stdout",
     "output_type": "stream",
     "text": [
      "Error rate at the 5th iteration is 48.200000\n"
     ]
    }
   ],
   "source": [
    "i = 5\n",
    "value = 48.2\n",
    "print(\"Error rate at the %dth iteration is %f\"%(i, value))"
   ]
  },
  {
   "cell_type": "code",
   "execution_count": 16,
   "metadata": {},
   "outputs": [
    {
     "name": "stdout",
     "output_type": "stream",
     "text": [
      "hello, AIVIETNAM!\n",
      "hello, AIVIETNAM!\n"
     ]
    }
   ],
   "source": [
    "value1 = \"hello\"\n",
    "value2 = \"AIVIETNAM\"\n",
    "\n",
    "print(\"%s, %s!\"%(value1, value2))\n",
    "print(\"%s, %s!\"%(value1, value2))"
   ]
  },
  {
   "cell_type": "code",
   "execution_count": 18,
   "metadata": {},
   "outputs": [
    {
     "name": "stdout",
     "output_type": "stream",
     "text": [
      "hello, AIVIETNAM\n",
      "AIVIETNAM, hello\n"
     ]
    }
   ],
   "source": [
    "value1 = \"hello\"\n",
    "value2 = \"AIVIETNAM\"\n",
    "\n",
    "s1 = \"{n1}, {n2}\".format(n1=value1, n2=value2)\n",
    "s2 = \"{n1}, {n2}\".format(n2=value1, n1=value2)\n",
    "\n",
    "print(s1)\n",
    "print(s2)"
   ]
  },
  {
   "cell_type": "code",
   "execution_count": 19,
   "metadata": {},
   "outputs": [
    {
     "name": "stdout",
     "output_type": "stream",
     "text": [
      "Toi thichAI\n",
      "Toi thichAIToi thichAI\n"
     ]
    }
   ],
   "source": [
    "s1 = 'Toi thich'\n",
    "s2 = 'AI'\n",
    "\n",
    "s3 = s1 + s2\n",
    "s4 = s3*2\n",
    "\n",
    "print(s3)\n",
    "print(s4)"
   ]
  },
  {
   "cell_type": "code",
   "execution_count": 20,
   "metadata": {},
   "outputs": [
    {
     "name": "stdout",
     "output_type": "stream",
     "text": [
      "True\n",
      "False\n"
     ]
    }
   ],
   "source": [
    "# Kiem tra xem string gom cac chu so\n",
    "print(\"10\".isdigit())\n",
    "print(\"abc\".isdigit())"
   ]
  },
  {
   "cell_type": "code",
   "execution_count": 21,
   "metadata": {},
   "outputs": [
    {
     "name": "stdout",
     "output_type": "stream",
     "text": [
      "False\n",
      "True\n"
     ]
    }
   ],
   "source": [
    "# Kiem tra xem string gom cac chu cai\n",
    "print(\"10\".isalpha())\n",
    "print(\"abc\".isalpha())"
   ]
  },
  {
   "cell_type": "code",
   "execution_count": 23,
   "metadata": {},
   "outputs": [
    {
     "name": "stdout",
     "output_type": "stream",
     "text": [
      "True\n",
      "False\n"
     ]
    }
   ],
   "source": [
    "# Kiem tra viet thuong cua ky tu\n",
    "print(\"ab\".islower())\n",
    "print(\"Ab\".islower())"
   ]
  },
  {
   "cell_type": "code",
   "execution_count": 25,
   "metadata": {},
   "outputs": [
    {
     "name": "stdout",
     "output_type": "stream",
     "text": [
      "False\n",
      "True\n"
     ]
    }
   ],
   "source": [
    "# Kiem tra chu viet hoa cua ky tu\n",
    "print(\"Ab\".isupper())\n",
    "print(\"AB\".isupper())"
   ]
  },
  {
   "cell_type": "code",
   "execution_count": 26,
   "metadata": {},
   "outputs": [
    {
     "name": "stdout",
     "output_type": "stream",
     "text": [
      "True\n",
      "False\n",
      "False\n"
     ]
    }
   ],
   "source": [
    "# Kiem tra chuoi co bat dau bang chua hoa ko\n",
    "print(\"Hello\".istitle())\n",
    "print(\"HELLO\".istitle())\n",
    "print(\"hello\".istitle())"
   ]
  },
  {
   "cell_type": "code",
   "execution_count": 28,
   "metadata": {},
   "outputs": [
    {
     "name": "stdout",
     "output_type": "stream",
     "text": [
      "False\n",
      "True\n",
      "True\n",
      "False\n"
     ]
    }
   ],
   "source": [
    "# Kiem tra chuoi chi la khoang trang\n",
    "print(\"\".isspace())\n",
    "print(\"  \".isspace())\n",
    "print(\"   \".isspace())\n",
    "print(\"  abc  \".isspace())"
   ]
  },
  {
   "cell_type": "code",
   "execution_count": 30,
   "metadata": {},
   "outputs": [
    {
     "name": "stdout",
     "output_type": "stream",
     "text": [
      "2\n",
      "0\n",
      "11\n"
     ]
    }
   ],
   "source": [
    "s = \"AI VIET NAM\"\n",
    "\n",
    "print(s.count('A'))\n",
    "print(s.count('a'))\n",
    "print(len(s))"
   ]
  },
  {
   "cell_type": "code",
   "execution_count": 31,
   "metadata": {},
   "outputs": [
    {
     "data": {
      "text/plain": [
       "'Day La Bai Hoc Cua Ai Viet Nam'"
      ]
     },
     "execution_count": 31,
     "metadata": {},
     "output_type": "execute_result"
    }
   ],
   "source": [
    "# Chuyen doi cac ki tu thanh ky tu hoa \n",
    "mystr = \"day la bai hoc cua AI VIET NAM\"\n",
    "mystr.title()"
   ]
  },
  {
   "cell_type": "code",
   "execution_count": 32,
   "metadata": {},
   "outputs": [
    {
     "data": {
      "text/plain": [
       "'Day la bai hoc cua ai viet nam'"
      ]
     },
     "execution_count": 32,
     "metadata": {},
     "output_type": "execute_result"
    }
   ],
   "source": [
    "# chu cai dau viet hoa con cac chu con lai viet thuong\n",
    "mystr.capitalize()"
   ]
  },
  {
   "cell_type": "code",
   "execution_count": 33,
   "metadata": {},
   "outputs": [
    {
     "data": {
      "text/plain": [
       "'DAY LA BAI HOC CUA ai viet nam'"
      ]
     },
     "execution_count": 33,
     "metadata": {},
     "output_type": "execute_result"
    }
   ],
   "source": [
    "# Chuyen doi ky tu thuong thanh ky tu hoa va nguoc lai\n",
    "mystr.swapcase()"
   ]
  },
  {
   "cell_type": "code",
   "execution_count": 35,
   "metadata": {},
   "outputs": [
    {
     "data": {
      "text/plain": [
       "'DAY LA BAI HOC CUA AI VIET NAM'"
      ]
     },
     "execution_count": 35,
     "metadata": {},
     "output_type": "execute_result"
    }
   ],
   "source": [
    "# Chuyen cac ky tu chuoi thanh chu hoa\n",
    "mystr.upper()"
   ]
  },
  {
   "cell_type": "code",
   "execution_count": 36,
   "metadata": {},
   "outputs": [
    {
     "data": {
      "text/plain": [
       "'day la bai hoc cua ai viet nam'"
      ]
     },
     "execution_count": 36,
     "metadata": {},
     "output_type": "execute_result"
    }
   ],
   "source": [
    "# chuyen doi cac ki tu chu sang thuong\n",
    "mystr.lower()"
   ]
  },
  {
   "cell_type": "code",
   "execution_count": 37,
   "metadata": {},
   "outputs": [
    {
     "data": {
      "text/plain": [
       "'-----day la bai hoc cua AI VIET NAM-----'"
      ]
     },
     "execution_count": 37,
     "metadata": {},
     "output_type": "execute_result"
    }
   ],
   "source": [
    "# Dua chuoi Ky tu ve giua\n",
    "mystr.center(40,'-')"
   ]
  },
  {
   "cell_type": "code",
   "execution_count": 40,
   "metadata": {},
   "outputs": [
    {
     "data": {
      "text/plain": [
       "'day la bai hoc cua AI VIET NAM'"
      ]
     },
     "execution_count": 40,
     "metadata": {},
     "output_type": "execute_result"
    }
   ],
   "source": [
    "# Loai bo khoang trang giua hai dau chuoi\n",
    "mystr.strip()"
   ]
  },
  {
   "cell_type": "code",
   "execution_count": 41,
   "metadata": {},
   "outputs": [
    {
     "data": {
      "text/plain": [
       "'day la bai hoc cua TTNTVIETNAM'"
      ]
     },
     "execution_count": 41,
     "metadata": {},
     "output_type": "execute_result"
    }
   ],
   "source": [
    "# Thay the chuoi\n",
    "mystr.replace('AI VIET NAM','TTNTVIETNAM')"
   ]
  },
  {
   "cell_type": "code",
   "execution_count": 43,
   "metadata": {},
   "outputs": [
    {
     "data": {
      "text/plain": [
       "('day la bai hoc ', 'cua', ' AI VIET NAM')"
      ]
     },
     "execution_count": 43,
     "metadata": {},
     "output_type": "execute_result"
    }
   ],
   "source": [
    "# Tach chuoi\n",
    "mystr.partition('cua')"
   ]
  },
  {
   "cell_type": "code",
   "execution_count": 44,
   "metadata": {},
   "outputs": [
    {
     "name": "stdout",
     "output_type": "stream",
     "text": [
      "True\n",
      "False\n"
     ]
    }
   ],
   "source": [
    "# Kiem tra phan het thuc cua mot string\n",
    "print(mystr.endswith('VIET NAM'))\n",
    "print(mystr.endswith('bai hoc'))"
   ]
  },
  {
   "cell_type": "code",
   "execution_count": 46,
   "metadata": {},
   "outputs": [
    {
     "name": "stdout",
     "output_type": "stream",
     "text": [
      "True\n",
      "False\n"
     ]
    }
   ],
   "source": [
    "print(mystr.startswith('day'))\n",
    "print(mystr.startswith('AI'))"
   ]
  },
  {
   "cell_type": "markdown",
   "metadata": {},
   "source": [
    "###### VÒNG LA"
   ]
  },
  {
   "cell_type": "code",
   "execution_count": 2,
   "metadata": {},
   "outputs": [
    {
     "name": "stdout",
     "output_type": "stream",
     "text": [
      "0\n",
      "1\n",
      "2\n",
      "3\n",
      "4\n",
      "phan code nay nay khi da thoat while\n",
      "So sinh ra co gia tri la 7\n",
      "So sinh ra co gia tri la 8\n",
      "So sinh ra co gia tri la 1\n",
      "So sinh ra co gia tri la 9\n",
      "So sinh ra co gia tri la 5\n",
      "Da thoat  khoi while\n"
     ]
    }
   ],
   "source": [
    "i = 0\n",
    "\n",
    "# bat dau vong lap while\n",
    "while i<5:\n",
    "    # code trong while\n",
    "    print(i)\n",
    "    i = i + 1\n",
    "print('phan code nay nay khi da thoat while')\n",
    "\n",
    "import random\n",
    "\n",
    "# cho vong lap chay vo tan\n",
    "while True:\n",
    "    # sinh so ngau nhien\n",
    "    num = random.randint(0,10)\n",
    "    print('So sinh ra co gia tri la',num)\n",
    "    \n",
    "    # Kiem tra num co bang 5 hay khong?\n",
    "    if num == 5:\n",
    "    # Neu co thi thoat khoi while\n",
    "        break;\n",
    "print('Da thoat  khoi while')\n",
    "\n"
   ]
  },
  {
   "cell_type": "code",
   "execution_count": null,
   "metadata": {},
   "outputs": [],
   "source": []
  }
 ],
 "metadata": {
  "kernelspec": {
   "display_name": "Python 3",
   "language": "python",
   "name": "python3"
  },
  "language_info": {
   "codemirror_mode": {
    "name": "ipython",
    "version": 3
   },
   "file_extension": ".py",
   "mimetype": "text/x-python",
   "name": "python",
   "nbconvert_exporter": "python",
   "pygments_lexer": "ipython3",
   "version": "3.7.8"
  }
 },
 "nbformat": 4,
 "nbformat_minor": 4
}
